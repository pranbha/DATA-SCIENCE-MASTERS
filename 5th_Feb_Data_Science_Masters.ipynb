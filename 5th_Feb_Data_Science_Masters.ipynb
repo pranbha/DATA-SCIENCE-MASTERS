{
 "cells": [
  {
   "cell_type": "code",
   "execution_count": 3,
   "id": "05d8322b",
   "metadata": {},
   "outputs": [
    {
     "name": "stdout",
     "output_type": "stream",
     "text": [
      "Welcome to pwskills lab\n"
     ]
    }
   ],
   "source": [
    "class pwskills:\n",
    "    def welcome(self):\n",
    "        print(\"Welcome to pwskills lab\")\n",
    "        \n",
    "hanu = pwskills()\n",
    "hanu.welcome()"
   ]
  },
  {
   "cell_type": "code",
   "execution_count": 10,
   "id": "fd799f20",
   "metadata": {},
   "outputs": [],
   "source": [
    "class pwskills1:\n",
    "    def __init__(self, ph_no, email, id1):\n",
    "        self.ph_no = ph_no\n",
    "        self.email = email\n",
    "        self.id1 = id1\n",
    "        \n",
    "    def student_details(self):\n",
    "         return self.ph_no, self.email, self.id1"
   ]
  },
  {
   "cell_type": "code",
   "execution_count": 11,
   "id": "64ce7182",
   "metadata": {},
   "outputs": [
    {
     "data": {
      "text/plain": [
       "(3243534645, 'abc@gmail.com', 10)"
      ]
     },
     "execution_count": 11,
     "metadata": {},
     "output_type": "execute_result"
    }
   ],
   "source": [
    "rohan = pwskills1(3243534645, \"abc@gmail.com\", 10)\n",
    "rohan.student_details()"
   ]
  },
  {
   "cell_type": "code",
   "execution_count": 12,
   "id": "1f6e7334",
   "metadata": {},
   "outputs": [
    {
     "data": {
      "text/plain": [
       "'Good Morning, Pranjal'"
      ]
     },
     "execution_count": 12,
     "metadata": {},
     "output_type": "execute_result"
    }
   ],
   "source": [
    "class pwskills2:\n",
    "    def __init__(hello, name):\n",
    "        hello.name = name\n",
    "        \n",
    "    def show(hello):\n",
    "        return  \"Good Morning, \" + hello.name\n",
    "        \n",
    "pranjal = pwskills2(\"Pranjal\")\n",
    "pranjal.show()"
   ]
  },
  {
   "cell_type": "code",
   "execution_count": null,
   "id": "a1c0ac47",
   "metadata": {},
   "outputs": [],
   "source": []
  }
 ],
 "metadata": {
  "kernelspec": {
   "display_name": "Python 3 (ipykernel)",
   "language": "python",
   "name": "python3"
  },
  "language_info": {
   "codemirror_mode": {
    "name": "ipython",
    "version": 3
   },
   "file_extension": ".py",
   "mimetype": "text/x-python",
   "name": "python",
   "nbconvert_exporter": "python",
   "pygments_lexer": "ipython3",
   "version": "3.9.13"
  }
 },
 "nbformat": 4,
 "nbformat_minor": 5
}
