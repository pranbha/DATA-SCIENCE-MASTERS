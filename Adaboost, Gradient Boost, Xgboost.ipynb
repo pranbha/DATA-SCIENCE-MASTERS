{
 "cells": [
  {
   "cell_type": "code",
   "execution_count": 1,
   "id": "77e6dada",
   "metadata": {},
   "outputs": [],
   "source": [
    "#pip install Xgboost"
   ]
  },
  {
   "cell_type": "code",
   "execution_count": 2,
   "id": "3c557f7c",
   "metadata": {},
   "outputs": [],
   "source": [
    "import xgboost as xb"
   ]
  },
  {
   "cell_type": "code",
   "execution_count": 3,
   "id": "a0b1f6c2",
   "metadata": {},
   "outputs": [],
   "source": [
    "from sklearn.ensemble import AdaBoostClassifier\n",
    "from sklearn.ensemble import GradientBoostingClassifier"
   ]
  },
  {
   "cell_type": "code",
   "execution_count": 25,
   "id": "3b17d7f9",
   "metadata": {},
   "outputs": [],
   "source": [
    "from sklearn.datasets import make_classification\n",
    "x,y = make_classification(n_samples=1000, n_features=4, n_informative=2, n_redundant=0, random_state=0, shuffle=False)"
   ]
  },
  {
   "cell_type": "code",
   "execution_count": 33,
   "id": "472dca29",
   "metadata": {},
   "outputs": [],
   "source": [
    "from sklearn.model_selection import train_test_split\n",
    "x_train, x_test, y_train, y_test = train_test_split(x,y,test_size=0.25, random_state=42)"
   ]
  },
  {
   "cell_type": "code",
   "execution_count": 34,
   "id": "10301b1f",
   "metadata": {},
   "outputs": [],
   "source": [
    "from sklearn.metrics import confusion_matrix, accuracy_score"
   ]
  },
  {
   "cell_type": "code",
   "execution_count": 35,
   "id": "c19472e4",
   "metadata": {},
   "outputs": [],
   "source": [
    "def evaluate(x_train, x_test, y_train, y_test, models):\n",
    "    report = {}\n",
    "    \n",
    "    for i in range(len(models)):\n",
    "        model = list(models.values())[i]\n",
    "        model.fit(x_train, y_train)\n",
    "        \n",
    "        y_pred = model.predict(x_test)\n",
    "        \n",
    "        score = accuracy_score(y_test, y_pred)\n",
    "        \n",
    "        report[list(models.keys())[i]] = str(score*100) + ' percent'\n",
    "        \n",
    "    return report"
   ]
  },
  {
   "cell_type": "code",
   "execution_count": 36,
   "id": "037ca70c",
   "metadata": {},
   "outputs": [
    {
     "data": {
      "text/plain": [
       "{'AdaBoost Classifier': '92.0 percent',\n",
       " 'Gradient Boosting Classifier': '93.60000000000001 percent',\n",
       " 'XgBoost Classifier': '92.0 percent'}"
      ]
     },
     "execution_count": 36,
     "metadata": {},
     "output_type": "execute_result"
    }
   ],
   "source": [
    "models = {'AdaBoost Classifier' : AdaBoostClassifier(),\n",
    "          'Gradient Boosting Classifier' : GradientBoostingClassifier(),\n",
    "          'XgBoost Classifier' : xb.XGBClassifier()}\n",
    "\n",
    "evaluate(x_train, x_test, y_train, y_test, models)"
   ]
  },
  {
   "cell_type": "code",
   "execution_count": 37,
   "id": "e18d0ea1",
   "metadata": {},
   "outputs": [
    {
     "name": "stdout",
     "output_type": "stream",
     "text": [
      "0.92\n"
     ]
    }
   ],
   "source": [
    "classifier = AdaBoostClassifier()\n",
    "classifier.fit(x_train, y_train)\n",
    "y_pred = classifier.predict(x_test)\n",
    "print(accuracy_score(y_test, y_pred))"
   ]
  },
  {
   "cell_type": "code",
   "execution_count": 38,
   "id": "b3ffe180",
   "metadata": {},
   "outputs": [
    {
     "name": "stdout",
     "output_type": "stream",
     "text": [
      "0.936\n"
     ]
    }
   ],
   "source": [
    "classifier = GradientBoostingClassifier()\n",
    "classifier.fit(x_train, y_train)\n",
    "y_pred = classifier.predict(x_test)\n",
    "print(accuracy_score(y_test, y_pred))"
   ]
  },
  {
   "cell_type": "code",
   "execution_count": 39,
   "id": "aebe7e46",
   "metadata": {},
   "outputs": [
    {
     "name": "stdout",
     "output_type": "stream",
     "text": [
      "0.92\n"
     ]
    }
   ],
   "source": [
    "classifier = xb.XGBClassifier()\n",
    "classifier.fit(x_train, y_train)\n",
    "y_pred = classifier.predict(x_test)\n",
    "print(accuracy_score(y_test, y_pred))"
   ]
  },
  {
   "cell_type": "markdown",
   "id": "6f96718a",
   "metadata": {},
   "source": [
    "# REGRESSION TASK"
   ]
  },
  {
   "cell_type": "code",
   "execution_count": 60,
   "id": "5f1585ff",
   "metadata": {},
   "outputs": [],
   "source": [
    "from sklearn.datasets import make_regression\n",
    "x, y = make_regression(n_features=4, n_informative=2,\n",
    "                       random_state=0, shuffle=False)"
   ]
  },
  {
   "cell_type": "code",
   "execution_count": 61,
   "id": "e5f8da5c",
   "metadata": {},
   "outputs": [],
   "source": [
    "x_train, x_test, y_train, y_test = train_test_split(x,y,test_size=0.33, random_state=42)"
   ]
  },
  {
   "cell_type": "code",
   "execution_count": 62,
   "id": "e396262a",
   "metadata": {},
   "outputs": [],
   "source": [
    "def evaluate(x_train, x_test, y_train, y_test, models):\n",
    "    report = {}\n",
    "    \n",
    "    for i in range(len(models)):\n",
    "        model = list(models.values())[i]\n",
    "        model.fit(x_train, y_train)\n",
    "        \n",
    "        y_pred = model.predict(x_test)\n",
    "        \n",
    "        score = r2_score(y_test, y_pred)\n",
    "        \n",
    "        report[list(models.keys())[i]] = str(score*100) + ' percent'\n",
    "        \n",
    "    return report"
   ]
  },
  {
   "cell_type": "code",
   "execution_count": 63,
   "id": "c494f80f",
   "metadata": {},
   "outputs": [],
   "source": [
    "from sklearn.ensemble import AdaBoostRegressor\n",
    "from sklearn.ensemble import GradientBoostingRegressor\n",
    "from sklearn.metrics import r2_score"
   ]
  },
  {
   "cell_type": "code",
   "execution_count": 64,
   "id": "aa9a63a4",
   "metadata": {},
   "outputs": [],
   "source": [
    "models = {'Ada Boost Regressor' : AdaBoostRegressor(),\n",
    "          'Gradient Boosting Regressor' : GradientBoostingRegressor(),\n",
    "          'Xg Boost Regressor' : xb.XGBRegressor()}"
   ]
  },
  {
   "cell_type": "code",
   "execution_count": 65,
   "id": "6fc47b3c",
   "metadata": {},
   "outputs": [
    {
     "data": {
      "text/plain": [
       "{'Ada Boost Regressor': '93.04193332876818 percent',\n",
       " 'Gradient Boosting Regressor': '93.75392068196203 percent',\n",
       " 'Xg Boost Regressor': '91.09910707497 percent'}"
      ]
     },
     "execution_count": 65,
     "metadata": {},
     "output_type": "execute_result"
    }
   ],
   "source": [
    "evaluate(x_train, x_test, y_train, y_test, models)"
   ]
  },
  {
   "cell_type": "code",
   "execution_count": null,
   "id": "1f5c971c",
   "metadata": {},
   "outputs": [],
   "source": []
  }
 ],
 "metadata": {
  "kernelspec": {
   "display_name": "Python 3 (ipykernel)",
   "language": "python",
   "name": "python3"
  },
  "language_info": {
   "codemirror_mode": {
    "name": "ipython",
    "version": 3
   },
   "file_extension": ".py",
   "mimetype": "text/x-python",
   "name": "python",
   "nbconvert_exporter": "python",
   "pygments_lexer": "ipython3",
   "version": "3.9.13"
  }
 },
 "nbformat": 4,
 "nbformat_minor": 5
}
