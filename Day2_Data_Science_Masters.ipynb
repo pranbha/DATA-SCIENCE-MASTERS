{
 "cells": [
  {
   "cell_type": "code",
   "execution_count": 1,
   "id": "2bcc403e",
   "metadata": {},
   "outputs": [
    {
     "name": "stdout",
     "output_type": "stream",
     "text": [
      "HELLO\n"
     ]
    }
   ],
   "source": [
    "print(\"HELLO\")"
   ]
  },
  {
   "cell_type": "code",
   "execution_count": 2,
   "id": "64862d90",
   "metadata": {},
   "outputs": [
    {
     "name": "stdout",
     "output_type": "stream",
     "text": [
      "Enter you age : 34\n",
      "You are young blood\n"
     ]
    }
   ],
   "source": [
    "age=int(input(\"Enter you age : \"))\n",
    "if age>=18 and age<=45:\n",
    "    print(\"You are young blood\")"
   ]
  },
  {
   "cell_type": "code",
   "execution_count": 3,
   "id": "1fc367ae",
   "metadata": {},
   "outputs": [
    {
     "name": "stdout",
     "output_type": "stream",
     "text": [
      "Enter the product price : 300\n",
      "You get 30 percent off\n",
      "The price of product after discount is  210.0\n"
     ]
    }
   ],
   "source": [
    "product_price= int(input(\"Enter the product price : \"))\n",
    "if product_price > 1000:\n",
    "    print(\"You get 20 percent off\")\n",
    "    print(\"The price of product after discount is \", (4*product_price)/5)\n",
    "else:\n",
    "    print(\"You get 30 percent off\")\n",
    "    print(\"The price of product after discount is \", (7*product_price)/10)"
   ]
  },
  {
   "cell_type": "code",
   "execution_count": 4,
   "id": "13b416d0",
   "metadata": {},
   "outputs": [
    {
     "name": "stdout",
     "output_type": "stream",
     "text": [
      "Enter the price2999\n",
      "Congratulations you get an additional gift\n",
      "The price of the product is 2099.2999999999997\n"
     ]
    }
   ],
   "source": [
    "product_price=int(input(\"Enter the price\"))\n",
    "if product_price>3000:\n",
    "    if product_price==4000:\n",
    "        print(\"Congratulations you get a Goa Trip\")\n",
    "    print(f\"The price of the product is {product_price*0.8}\")\n",
    "elif product_price>=2000 and product_price<=3000:\n",
    "    if product_price==2999:\n",
    "        print(\"Congratulations you get an additional gift\")\n",
    "    print(f\"The price of the product is {product_price*0.7}\")\n",
    "elif product_price>=100 and product_price<2000:\n",
    "    print(f\"The price of the product is {product_price*0.6}\")\n",
    "else:\n",
    "    print(\"Lets drink coffee\")"
   ]
  },
  {
   "cell_type": "code",
   "execution_count": 5,
   "id": "21137b3b",
   "metadata": {},
   "outputs": [
    {
     "name": "stdout",
     "output_type": "stream",
     "text": [
      "23\n",
      "24\n",
      "25\n",
      "26\n",
      "27\n",
      "28\n",
      "29\n",
      "30\n",
      "31\n",
      "32\n",
      "33\n",
      "34\n",
      "35\n",
      "36\n",
      "37\n",
      "38\n",
      "39\n",
      "40\n",
      "41\n",
      "42\n",
      "43\n",
      "44\n",
      "45\n",
      "46\n",
      "47\n",
      "48\n",
      "49\n",
      "50\n",
      "51\n",
      "52\n",
      "53\n",
      "54\n",
      "55\n",
      "56\n",
      "57\n",
      "58\n",
      "59\n",
      "60\n",
      "It's time to retire\n"
     ]
    }
   ],
   "source": [
    "join_age=23\n",
    "while join_age<=60:\n",
    "    print(join_age)\n",
    "    join_age=join_age+1\n",
    "else:\n",
    "    print(\"It's time to retire\")"
   ]
  },
  {
   "cell_type": "markdown",
   "id": "c0f36a6f",
   "metadata": {},
   "source": [
    "#FOR LOOPS"
   ]
  },
  {
   "cell_type": "code",
   "execution_count": 8,
   "id": "5a967950",
   "metadata": {},
   "outputs": [
    {
     "name": "stdout",
     "output_type": "stream",
     "text": [
      "Hello\n",
      "1\n",
      "2\n",
      "3\n",
      "4\n",
      "Bye\n"
     ]
    }
   ],
   "source": [
    "list1=[\"Hello\",1,2,3,4,\"Bye\"]\n",
    "for i in list1:\n",
    "    print(i)"
   ]
  },
  {
   "cell_type": "code",
   "execution_count": 9,
   "id": "56eef863",
   "metadata": {},
   "outputs": [
    {
     "name": "stdout",
     "output_type": "stream",
     "text": [
      "Hello 1 2 3 4 Bye "
     ]
    }
   ],
   "source": [
    "list1=[\"Hello\",1,2,3,4,\"Bye\"]\n",
    "for i in list1:\n",
    "    print(i, end=\" \")"
   ]
  },
  {
   "cell_type": "code",
   "execution_count": 15,
   "id": "d1b6ec96",
   "metadata": {},
   "outputs": [
    {
     "name": "stdout",
     "output_type": "stream",
     "text": [
      "* \r\n",
      "* * \r\n",
      "* * * \r\n",
      "* * * * \r\n",
      "* * * * * \r\n",
      "* * * * * * \r\n",
      "* * * * * * * \r\n"
     ]
    }
   ],
   "source": [
    "for i in range(0,7):\n",
    "    for i in range(0,i+1):\n",
    "        print(\"*\",end=\" \")\n",
    "    print(\"\\r\")"
   ]
  },
  {
   "cell_type": "code",
   "execution_count": 22,
   "id": "d0abfc75",
   "metadata": {},
   "outputs": [
    {
     "name": "stdout",
     "output_type": "stream",
     "text": [
      "mango\n",
      "apple\n"
     ]
    }
   ],
   "source": [
    "fruits=[\"mango\", \"apple\", \"banana\", \"guava\", \"orange\"]\n",
    "for i in fruits:\n",
    "    if i == \"banana\":\n",
    "        break\n",
    "    print(i)"
   ]
  },
  {
   "cell_type": "code",
   "execution_count": 20,
   "id": "c1a55495",
   "metadata": {},
   "outputs": [
    {
     "name": "stdout",
     "output_type": "stream",
     "text": [
      "mango\n",
      "apple\n",
      "guava\n",
      "orange\n"
     ]
    }
   ],
   "source": [
    "fruits=[\"mango\", \"apple\", \"banana\", \"guava\", \"orange\"]\n",
    "for i in fruits:\n",
    "    if i == \"banana\":\n",
    "        continue\n",
    "    print(i)"
   ]
  },
  {
   "cell_type": "code",
   "execution_count": 23,
   "id": "8cbe6b03",
   "metadata": {},
   "outputs": [
    {
     "name": "stdout",
     "output_type": "stream",
     "text": [
      "mango\n",
      "apple\n",
      "banana\n",
      "guava\n",
      "orange\n"
     ]
    }
   ],
   "source": [
    "fruits=[\"mango\", \"apple\", \"banana\", \"guava\", \"orange\"]\n",
    "for i in fruits:\n",
    "    if i == \"banana\":\n",
    "        pass\n",
    "    print(i)"
   ]
  },
  {
   "cell_type": "code",
   "execution_count": null,
   "id": "c18ff39b",
   "metadata": {},
   "outputs": [],
   "source": []
  }
 ],
 "metadata": {
  "kernelspec": {
   "display_name": "Python 3 (ipykernel)",
   "language": "python",
   "name": "python3"
  },
  "language_info": {
   "codemirror_mode": {
    "name": "ipython",
    "version": 3
   },
   "file_extension": ".py",
   "mimetype": "text/x-python",
   "name": "python",
   "nbconvert_exporter": "python",
   "pygments_lexer": "ipython3",
   "version": "3.9.13"
  }
 },
 "nbformat": 4,
 "nbformat_minor": 5
}
