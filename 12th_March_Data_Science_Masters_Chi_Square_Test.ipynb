{
 "cells": [
  {
   "cell_type": "code",
   "execution_count": 1,
   "id": "d42a4c1f",
   "metadata": {},
   "outputs": [],
   "source": [
    "import scipy.stats as stat\n",
    "import numpy as np"
   ]
  },
  {
   "cell_type": "code",
   "execution_count": 6,
   "id": "b9dc2a1a",
   "metadata": {},
   "outputs": [],
   "source": [
    "# A student study hours daily in a week\n",
    "# Monday, Tuesday, Wednesday, Thursday, Friday, Saturday, Sunday\n",
    "expected_data=[8,6,7,9,6,9,7]\n",
    "observed_data=[7,8,6,9,9,6,7]"
   ]
  },
  {
   "cell_type": "code",
   "execution_count": 7,
   "id": "4a9852ee",
   "metadata": {},
   "outputs": [
    {
     "data": {
      "text/plain": [
       "(52, 52)"
      ]
     },
     "execution_count": 7,
     "metadata": {},
     "output_type": "execute_result"
    }
   ],
   "source": [
    "sum(expected_data),sum(observed_data)"
   ]
  },
  {
   "cell_type": "code",
   "execution_count": 8,
   "id": "3f09d2c3",
   "metadata": {},
   "outputs": [],
   "source": [
    "chi_square_stats,p_val = stat.chisquare(observed_data,expected_data)"
   ]
  },
  {
   "cell_type": "code",
   "execution_count": 9,
   "id": "f82067e8",
   "metadata": {},
   "outputs": [
    {
     "name": "stdout",
     "output_type": "stream",
     "text": [
      "3.4345238095238093\n",
      "0.7526596580922865\n"
     ]
    },
    {
     "data": {
      "text/plain": [
       "(None, None)"
      ]
     },
     "execution_count": 9,
     "metadata": {},
     "output_type": "execute_result"
    }
   ],
   "source": [
    "print(chi_square_stats), print(p_val)"
   ]
  },
  {
   "cell_type": "code",
   "execution_count": 10,
   "id": "ab1abee4",
   "metadata": {},
   "outputs": [],
   "source": [
    "#Finding critical value\n",
    "significance = 0.05\n",
    "dof = len(observed_data)-1\n",
    "critical_val=stat.chi2.ppf(1-significance, dof)"
   ]
  },
  {
   "cell_type": "code",
   "execution_count": 11,
   "id": "6ee65eb5",
   "metadata": {},
   "outputs": [
    {
     "name": "stdout",
     "output_type": "stream",
     "text": [
      "12.591587243743977\n"
     ]
    }
   ],
   "source": [
    "print(critical_val)"
   ]
  },
  {
   "cell_type": "code",
   "execution_count": 12,
   "id": "4085a851",
   "metadata": {},
   "outputs": [
    {
     "name": "stdout",
     "output_type": "stream",
     "text": [
      "Fail to reject null hypothesis\n"
     ]
    }
   ],
   "source": [
    "if chi_square_stats > critical_val:\n",
    "    print(\"Reject null hypothesis\")\n",
    "else:\n",
    "    print(\"Fail to reject null hypothesis\")"
   ]
  },
  {
   "cell_type": "code",
   "execution_count": null,
   "id": "d28e4112",
   "metadata": {},
   "outputs": [],
   "source": []
  }
 ],
 "metadata": {
  "kernelspec": {
   "display_name": "Python 3 (ipykernel)",
   "language": "python",
   "name": "python3"
  },
  "language_info": {
   "codemirror_mode": {
    "name": "ipython",
    "version": 3
   },
   "file_extension": ".py",
   "mimetype": "text/x-python",
   "name": "python",
   "nbconvert_exporter": "python",
   "pygments_lexer": "ipython3",
   "version": "3.9.13"
  }
 },
 "nbformat": 4,
 "nbformat_minor": 5
}
