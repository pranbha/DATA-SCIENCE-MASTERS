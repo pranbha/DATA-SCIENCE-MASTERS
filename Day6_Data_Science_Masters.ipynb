{
 "cells": [
  {
   "cell_type": "markdown",
   "id": "f5620cd0",
   "metadata": {},
   "source": [
    "#FUNCTIONS"
   ]
  },
  {
   "cell_type": "code",
   "execution_count": 1,
   "id": "69f0be58",
   "metadata": {},
   "outputs": [],
   "source": [
    "def test():\n",
    "    print(\"My first function\")"
   ]
  },
  {
   "cell_type": "code",
   "execution_count": 3,
   "id": "f5fad23c",
   "metadata": {},
   "outputs": [
    {
     "name": "stdout",
     "output_type": "stream",
     "text": [
      "My first function\n"
     ]
    }
   ],
   "source": [
    "test()"
   ]
  },
  {
   "cell_type": "code",
   "execution_count": 6,
   "id": "97a263f3",
   "metadata": {},
   "outputs": [
    {
     "data": {
      "text/plain": [
       "'Good Morning, Pranjal'"
      ]
     },
     "execution_count": 6,
     "metadata": {},
     "output_type": "execute_result"
    }
   ],
   "source": [
    "def test2():\n",
    "    return \"Good Morning, \"\n",
    "test2() + \"Pranjal\""
   ]
  },
  {
   "cell_type": "code",
   "execution_count": 8,
   "id": "dd634baf",
   "metadata": {},
   "outputs": [
    {
     "data": {
      "text/plain": [
       "(1, 2, 3.4, 'hello')"
      ]
     },
     "execution_count": 8,
     "metadata": {},
     "output_type": "execute_result"
    }
   ],
   "source": [
    "def test3():\n",
    "    return 1,2,3.4,\"hello\"\n",
    "\n",
    "test3()"
   ]
  },
  {
   "cell_type": "code",
   "execution_count": 9,
   "id": "7ded249b",
   "metadata": {},
   "outputs": [
    {
     "data": {
      "text/plain": [
       "1"
      ]
     },
     "execution_count": 9,
     "metadata": {},
     "output_type": "execute_result"
    }
   ],
   "source": [
    "test3()[0]"
   ]
  },
  {
   "cell_type": "code",
   "execution_count": 10,
   "id": "75f5155a",
   "metadata": {},
   "outputs": [
    {
     "data": {
      "text/plain": [
       "(1, 2, 3.4)"
      ]
     },
     "execution_count": 10,
     "metadata": {},
     "output_type": "execute_result"
    }
   ],
   "source": [
    "test3()[0:3]"
   ]
  },
  {
   "cell_type": "code",
   "execution_count": 11,
   "id": "08a4b6fd",
   "metadata": {},
   "outputs": [
    {
     "data": {
      "text/plain": [
       "(2, 3.4)"
      ]
     },
     "execution_count": 11,
     "metadata": {},
     "output_type": "execute_result"
    }
   ],
   "source": [
    "test3()[-3:-1]"
   ]
  },
  {
   "cell_type": "code",
   "execution_count": 12,
   "id": "c2db9b7f",
   "metadata": {},
   "outputs": [
    {
     "data": {
      "text/plain": [
       "1"
      ]
     },
     "execution_count": 12,
     "metadata": {},
     "output_type": "execute_result"
    }
   ],
   "source": [
    "a,b,c,d = test3()\n",
    "a"
   ]
  },
  {
   "cell_type": "code",
   "execution_count": 13,
   "id": "82350db6",
   "metadata": {},
   "outputs": [
    {
     "data": {
      "text/plain": [
       "'hello'"
      ]
     },
     "execution_count": 13,
     "metadata": {},
     "output_type": "execute_result"
    }
   ],
   "source": [
    "d"
   ]
  },
  {
   "cell_type": "code",
   "execution_count": 14,
   "id": "ff102ddb",
   "metadata": {},
   "outputs": [
    {
     "name": "stdout",
     "output_type": "stream",
     "text": [
      "5, sum\n"
     ]
    }
   ],
   "source": [
    "def sum1(a,b):\n",
    "    return a + b\n",
    "print(f\"{sum1(2,3)}, sum\")"
   ]
  },
  {
   "cell_type": "code",
   "execution_count": 15,
   "id": "ca59b6e5",
   "metadata": {},
   "outputs": [
    {
     "data": {
      "text/plain": [
       "'Pranjal Bhardwaj'"
      ]
     },
     "execution_count": 15,
     "metadata": {},
     "output_type": "execute_result"
    }
   ],
   "source": [
    "sum1(\"Pranjal \", \"Bhardwaj\")"
   ]
  },
  {
   "cell_type": "code",
   "execution_count": 17,
   "id": "d228215f",
   "metadata": {},
   "outputs": [
    {
     "data": {
      "text/plain": [
       "'Pranjal Bhardwaj'"
      ]
     },
     "execution_count": 17,
     "metadata": {},
     "output_type": "execute_result"
    }
   ],
   "source": [
    "sum1(b = \"Bhardwaj\", a = \"Pranjal \")"
   ]
  },
  {
   "cell_type": "code",
   "execution_count": 23,
   "id": "8476a9d9",
   "metadata": {},
   "outputs": [
    {
     "name": "stdout",
     "output_type": "stream",
     "text": [
      "1\n",
      "2\n",
      "3\n",
      "4\n",
      "5.6\n",
      "6.7\n",
      "9\n",
      "10\n"
     ]
    }
   ],
   "source": [
    "l = [1,2,3,4,5.6,6.7,\"ello\", True, \"good\", 9,10]\n",
    "for i in l:\n",
    "    if type(i) == int or type(i) == float:\n",
    "        print(i)\n"
   ]
  },
  {
   "cell_type": "code",
   "execution_count": 26,
   "id": "80bdfbbb",
   "metadata": {},
   "outputs": [
    {
     "data": {
      "text/plain": [
       "[1, 2, 3, 4, 5.6, 6.7, 9, 10]"
      ]
     },
     "execution_count": 26,
     "metadata": {},
     "output_type": "execute_result"
    }
   ],
   "source": [
    "def no(a):\n",
    "    n = []\n",
    "    for i in a:\n",
    "        if type(i) == int or type(i) == float:\n",
    "            n.append(i)\n",
    "    return n\n",
    "\n",
    "no(l)"
   ]
  },
  {
   "cell_type": "code",
   "execution_count": 1,
   "id": "25da0540",
   "metadata": {},
   "outputs": [
    {
     "data": {
      "text/plain": [
       "(1, 2, 3, ['hello', 'good'], 5.6)"
      ]
     },
     "execution_count": 1,
     "metadata": {},
     "output_type": "execute_result"
    }
   ],
   "source": [
    "def test(*args):\n",
    "    return args\n",
    "\n",
    "test(1,2,3,[\"hello\", \"good\"], 5.6)"
   ]
  },
  {
   "cell_type": "code",
   "execution_count": 2,
   "id": "ce99c858",
   "metadata": {},
   "outputs": [
    {
     "data": {
      "text/plain": [
       "(1, 2, 3, ['hello', 'good'], 5.6)"
      ]
     },
     "execution_count": 2,
     "metadata": {},
     "output_type": "execute_result"
    }
   ],
   "source": [
    "def test(*hello):\n",
    "    return hello\n",
    "\n",
    "test(1,2,3,[\"hello\", \"good\"], 5.6)"
   ]
  },
  {
   "cell_type": "code",
   "execution_count": 3,
   "id": "06a50cb7",
   "metadata": {},
   "outputs": [
    {
     "data": {
      "text/plain": [
       "[['h', 'er', 3, 5]]"
      ]
     },
     "execution_count": 3,
     "metadata": {},
     "output_type": "execute_result"
    }
   ],
   "source": [
    "def test(*args):\n",
    "    l = []\n",
    "    for i in args:\n",
    "        if type(i) == list:\n",
    "            l.append(i)\n",
    "    return l\n",
    "\n",
    "test(1,2,3,[\"h\", \"er\", 3, 5], (2,3,4,5), {1,2,3})"
   ]
  },
  {
   "cell_type": "code",
   "execution_count": 4,
   "id": "6330ce55",
   "metadata": {},
   "outputs": [
    {
     "data": {
      "text/plain": [
       "{'a': 34, 'b': [1, 2, 3], 'c': ('blue', 'whale')}"
      ]
     },
     "execution_count": 4,
     "metadata": {},
     "output_type": "execute_result"
    }
   ],
   "source": [
    "def test7(**kwargs):\n",
    "    return kwargs\n",
    "test7(a = 34, b = [1,2,3], c = (\"blue\", \"whale\"))"
   ]
  },
  {
   "cell_type": "code",
   "execution_count": null,
   "id": "7b7cebe3",
   "metadata": {},
   "outputs": [],
   "source": []
  },
  {
   "cell_type": "markdown",
   "id": "943f277c",
   "metadata": {},
   "source": [
    "#Generator Function"
   ]
  },
  {
   "cell_type": "code",
   "execution_count": 2,
   "id": "3d54d008",
   "metadata": {},
   "outputs": [
    {
     "name": "stdout",
     "output_type": "stream",
     "text": [
      "0\n",
      "1\n",
      "1\n",
      "2\n",
      "3\n",
      "5\n",
      "8\n",
      "13\n",
      "21\n",
      "34\n"
     ]
    }
   ],
   "source": [
    "def fibonacci(n):\n",
    "    a,b = 0,1\n",
    "    for i in range(n):\n",
    "        yield a\n",
    "        a,b = b,a+b\n",
    "        \n",
    "for i in fibonacci(10):\n",
    "    print(i)"
   ]
  },
  {
   "cell_type": "code",
   "execution_count": null,
   "id": "109c4024",
   "metadata": {},
   "outputs": [],
   "source": []
  }
 ],
 "metadata": {
  "kernelspec": {
   "display_name": "Python 3 (ipykernel)",
   "language": "python",
   "name": "python3"
  },
  "language_info": {
   "codemirror_mode": {
    "name": "ipython",
    "version": 3
   },
   "file_extension": ".py",
   "mimetype": "text/x-python",
   "name": "python",
   "nbconvert_exporter": "python",
   "pygments_lexer": "ipython3",
   "version": "3.9.13"
  }
 },
 "nbformat": 4,
 "nbformat_minor": 5
}
