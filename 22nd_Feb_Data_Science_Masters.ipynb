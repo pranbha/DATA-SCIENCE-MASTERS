{
 "cells": [
  {
   "cell_type": "code",
   "execution_count": 1,
   "id": "3098cebc",
   "metadata": {},
   "outputs": [],
   "source": [
    "import requests\n",
    "from bs4 import BeautifulSoup\n",
    "from urllib.request import urlopen\n",
    "import logging\n",
    "import os"
   ]
  },
  {
   "cell_type": "code",
   "execution_count": 2,
   "id": "f3f77949",
   "metadata": {},
   "outputs": [],
   "source": [
    "save_dir = \"D:\\Pranjal App\\Data Science\\PHYSICS_WALLAH\\VS_CODE_PROG\\image_scrapper\""
   ]
  },
  {
   "cell_type": "code",
   "execution_count": 3,
   "id": "e8f896fc",
   "metadata": {},
   "outputs": [],
   "source": [
    "headers = {\"User-Agent\": \"Mozilla/5.0 (Windows NT 10.0; Win64; x64) AppleWebKit/537.36 (KHTML, like Gecko) Chrome/58.0.3029.110 Safari/537.36\"}"
   ]
  },
  {
   "cell_type": "code",
   "execution_count": 4,
   "id": "2ecf1a01",
   "metadata": {},
   "outputs": [
    {
     "name": "stdout",
     "output_type": "stream",
     "text": [
      "Enter the Query: elon musk\n"
     ]
    }
   ],
   "source": [
    "query = input(\"Enter the Query: \")"
   ]
  },
  {
   "cell_type": "code",
   "execution_count": 5,
   "id": "78eecf28",
   "metadata": {},
   "outputs": [],
   "source": [
    "response = requests.get(f\"https://www.google.com/search?q={query}&sxsrf=AJOqlzUuff1RXi2mm8I_OqOwT9VjfIDL7w:1676996143273&source=lnms&tbm=isch&sa=X&ved=2ahUKEwiq-qK7gaf9AhXUgVYBHYReAfYQ_AUoA3oECAEQBQ&biw=1920&bih=937&dpr=1#imgrc=1th7VhSesfMJ4M\")"
   ]
  },
  {
   "cell_type": "code",
   "execution_count": 6,
   "id": "c6cb7919",
   "metadata": {},
   "outputs": [
    {
     "data": {
      "text/plain": [
       "<Response [200]>"
      ]
     },
     "execution_count": 6,
     "metadata": {},
     "output_type": "execute_result"
    }
   ],
   "source": [
    "response"
   ]
  },
  {
   "cell_type": "code",
   "execution_count": 8,
   "id": "e50bf39a",
   "metadata": {},
   "outputs": [],
   "source": [
    "bsoup = BeautifulSoup(response.content, 'html.parser')"
   ]
  },
  {
   "cell_type": "code",
   "execution_count": 9,
   "id": "ef49f670",
   "metadata": {},
   "outputs": [
    {
     "data": {
      "text/plain": [
       "<!DOCTYPE html PUBLIC \"-//WAPFORUM//DTD XHTML Mobile 1.0//EN\" \"http://www.wapforum.org/DTD/xhtml-mobile10.dtd\">\n",
       "<html lang=\"en-IN\" xmlns=\"http://www.w3.org/1999/xhtml\"><head><meta content=\"application/xhtml+xml; charset=utf-8\" http-equiv=\"Content-Type\"/><meta content=\"no-cache\" name=\"Cache-Control\"/><title>elon musk - Google Search</title><style>a{text-decoration:none;color:inherit}a:hover{text-decoration:underline}a img{border:0}body{font-family:arial,sans-serif;padding:8px;margin:0 auto;max-width:700px;min-width:240px;}.FbhRzb{border-left:thin solid #dadce0;border-right:thin solid #dadce0;border-top:thin solid #dadce0;height:40px;overflow:hidden}.n692Zd{margin-bottom:10px}.cvifge{height:40px;border-spacing:0}.QvGUP{height:40px;padding:0 8px 0 8px;vertical-align:top}.O4cRJf{height:40px;width:100%;padding:0;padding-right:16px}.O1ePr{height:40px;padding:0;vertical-align:top}.kgJEQe{height:36px;width:98px;vertical-align:top;margin-top:4px}.lXLRf{vertical-align:top}.MhzMZd{border:0;vertical-align:middle;font-size:14px;height:40px;padding:0;width:100%;padding-left:16px}.xB0fq{height:40px;border:none;font-size:14px;background-color:#1a73e8;color:#fff;padding:0 16px;margin:0;vertical-align:top;cursor:pointer}.xB0fq:focus{border:1px solid #1a73e8}.M7pB2{border:thin solid #dadce0;margin:0 0 3px 0;font-size:13px;font-weight:500;height:40px}.euZec{width:100%;height:40px;text-align:center;border-spacing:0}table.euZec td{padding:0;width:25%}.QIqI7{display:inline-block;padding-top:4px;font-weight:bold;color:#4285f4}.EY24We{border-bottom:2px solid #4285f4}.CsQyDc{display:inline-block;color:#70757a}.TuS8Ad{font-size:14px}.HddGcc{padding:8px;color:#70757a}.dzp8ae{font-weight:bold;color:#3c4043}.rEM8G{color:#70757a}.bookcf{table-layout:fixed;width:100%;border-spacing:0}.InWNIe{text-align:center}.uZgmoc{border:thin solid #dadce0;color:#70757a;font-size:14px;text-align:center;table-layout:fixed;width:100%}.frGj1b{display:block;padding:12px 0 12px 0;width:100%}.BnJWBc{text-align:center;padding:6px 0 13px 0;height:35px}.e3goi{vertical-align:top;padding:0;height:180px}.GpQGbf{margin:auto;border-collapse:collapse;border-spacing:0;width:100%}</style></head><body><style>.X6ZCif{color:#202124;font-size:11px;line-height:16px;display:inline-block;padding-top:2px;overflow:hidden;padding-bottom:4px;width:100%}.TwVfHd{border-radius:16px;border:thin solid #dadce0;display:inline-block;padding:8px 8px;margin-right:8px;margin-bottom:4px}.yekiAe{background-color:#dadce0}.jjVJ4e{width:100%}.ezO2md{border:thin solid #dadce0;padding:12px 16px 12px 16px;margin-bottom:10px;font-family:arial,sans-serif}.lIMUZd{font-family:arial,sans-serif}.RntSmf{border-spacing:0}.lgD2Tc{width:100%}.SpelHe{text-align:center}.SpelHe{position:relative}.deHqpb{bottom:0;left:0;margin:auto;position:absolute;right:0;top:0}.kCmkOe{position:relative}.ID6Z3b{background-image:url(https://www.gstatic.com/search_trustx/visibility_off_icon_p0-7d897bf44bafe5436baa9009e8716337.png);background-repeat:no-repeat;background-position:center;background-size:20px}.kCmkOe{width:162px;height:140px;line-height:140px;overflow:'hidden';text-align:center}.DS1iW{text-align:center;margin:auto;vertical-align:middle;max-width:162px;max-height:140px}.AlD19d{padding-top:2px;padding-bottom:8px;}.fYyStc{word-break:break-word}.ynsChf{display:block;white-space:nowrap;overflow:hidden;text-overflow:ellipsis}.Fj3V3b{color:#1967d2;font-size:14px;line-height:20px}.FrIlee{color:#202124;font-size:11px;line-height:16px}.F9iS2e{color:#70757a;font-size:11px;line-height:16px}.WMQ2Le{color:#70757a;font-size:12px;line-height:16px}.x3G5ab{color:#202124;font-size:12px;line-height:16px}.fuLhoc{color:#1967d2;font-size:16px;line-height:20px}.epoveb{font-size:24px;line-height:28px;font-weight:400;color:#202124}.dXDvrc{color:#0d652d;font-size:14px;line-height:20px;word-wrap:break-word}.dloBPe{font-weight:bold}.YVIcad{color:#70757a}.JkVVdd{color:#ea4335}.oXZRFd{color:#ea4335}.MQHtg{color:#fbbc04}.pyMRrb{color:#1e8e3e}.EtTZid{color:#1e8e3e}.M3vVJe{color:#1967d2}.qXLe6d{display:block}.NHQNef{font-style:italic}.Cb8Z7c{white-space:pre}a.ZWRArf{text-decoration:none}a .CVA68e:hover{text-decoration:underline}</style><div class=\"n692Zd\"><div class=\"BnJWBc\"><a class=\"lXLRf\" href=\"/?sa=X&amp;sca_esv=602383729&amp;biw=1920&amp;bih=937&amp;output=images&amp;ie=UTF-8&amp;tbm=isch&amp;ved=0ahUKEwiG39XEhIOEAxW1cfUHHQ4ZBcUQPAgC\"><img alt=\"Google\" class=\"kgJEQe\" src=\"/images/branding/searchlogo/1x/googlelogo_desk_heirloom_color_150x55dp.gif\"/></a></div><div class=\"FbhRzb\"><form action=\"/search\"><input name=\"sca_esv\" type=\"hidden\" value=\"602383729\"/><input name=\"biw\" type=\"hidden\" value=\"1920\"/><input name=\"bih\" type=\"hidden\" value=\"937\"/><input name=\"ie\" type=\"hidden\" value=\"ISO-8859-1\"/><input name=\"tbm\" type=\"hidden\" value=\"isch\"/><input name=\"oq\" type=\"hidden\"/><input name=\"aqs\" type=\"hidden\"/><table class=\"cvifge\"><tr><td class=\"O4cRJf\"><input class=\"MhzMZd\" name=\"q\" type=\"text\" value=\"elon musk\"/></td><td class=\"O1ePr\"><input class=\"xB0fq\" type=\"submit\" value=\"Search\"/></td></tr></table></form></div><div class=\"M7pB2\"><table class=\"euZec\"><tbody><tr><td><a class=\"CsQyDc\" href=\"/search?q=elon+musk&amp;sca_esv=602383729&amp;biw=1920&amp;bih=937&amp;ie=UTF-8&amp;source=lnms&amp;sa=X&amp;ved=0ahUKEwiG39XEhIOEAxW1cfUHHQ4ZBcUQ_AUIBCgA\">ALL</a></td><td><a class=\"CsQyDc\" href=\"/search?q=elon+musk&amp;sca_esv=602383729&amp;biw=1920&amp;bih=937&amp;ie=UTF-8&amp;tbm=nws&amp;source=lnms&amp;sa=X&amp;ved=0ahUKEwiG39XEhIOEAxW1cfUHHQ4ZBcUQ_AUIBSgB\">NEWS</a></td><td class=\"EY24We\"><span class=\"QIqI7\">IMAGES</span></td><td><a class=\"CsQyDc\" href=\"/search?q=elon+musk&amp;sca_esv=602383729&amp;biw=1920&amp;bih=937&amp;ie=UTF-8&amp;tbm=vid&amp;source=lnms&amp;sa=X&amp;ved=0ahUKEwiG39XEhIOEAxW1cfUHHQ4ZBcUQ_AUIBygD\">VIDEOS</a></td></tr></tbody></table></div></div><div class=\"X6ZCif\"><a class=\"TwVfHd\" href=\"/search?sca_esv=602383729&amp;biw=1920&amp;bih=937&amp;ie=UTF-8&amp;tbm=isch&amp;q=elon+musk&amp;chips=q:elon+musk,g_1:tesla&amp;sa=X&amp;ved=0ahUKEwiG39XEhIOEAxW1cfUHHQ4ZBcUQ4lYICygA\">tesla</a><a class=\"TwVfHd\" href=\"/search?sca_esv=602383729&amp;biw=1920&amp;bih=937&amp;ie=UTF-8&amp;tbm=isch&amp;q=elon+musk&amp;chips=q:elon+musk,g_1:spacex&amp;sa=X&amp;ved=0ahUKEwiG39XEhIOEAxW1cfUHHQ4ZBcUQ4lYIDCgB\">spacex</a><a class=\"TwVfHd\" href=\"/search?sca_esv=602383729&amp;biw=1920&amp;bih=937&amp;ie=UTF-8&amp;tbm=isch&amp;q=elon+musk&amp;chips=q:elon+musk,g_1:rocket&amp;sa=X&amp;ved=0ahUKEwiG39XEhIOEAxW1cfUHHQ4ZBcUQ4lYIDSgC\">rocket</a><a class=\"TwVfHd\" href=\"/search?sca_esv=602383729&amp;biw=1920&amp;bih=937&amp;ie=UTF-8&amp;tbm=isch&amp;q=elon+musk&amp;chips=q:elon+musk,g_1:wallpaper&amp;sa=X&amp;ved=0ahUKEwiG39XEhIOEAxW1cfUHHQ4ZBcUQ4lYIDigD\">wallpaper</a><a class=\"TwVfHd\" href=\"/search?sca_esv=602383729&amp;biw=1920&amp;bih=937&amp;ie=UTF-8&amp;tbm=isch&amp;q=elon+musk&amp;chips=q:elon+musk,g_1:car&amp;sa=X&amp;ved=0ahUKEwiG39XEhIOEAxW1cfUHHQ4ZBcUQ4lYIDygE\">car</a><a class=\"TwVfHd\" href=\"/search?sca_esv=602383729&amp;biw=1920&amp;bih=937&amp;ie=UTF-8&amp;tbm=isch&amp;q=elon+musk&amp;chips=q:elon+musk,g_1:grimes&amp;sa=X&amp;ved=0ahUKEwiG39XEhIOEAxW1cfUHHQ4ZBcUQ4lYIECgF\">grimes</a><a class=\"TwVfHd\" href=\"/search?sca_esv=602383729&amp;biw=1920&amp;bih=937&amp;ie=UTF-8&amp;tbm=isch&amp;q=elon+musk&amp;chips=q:elon+musk,g_1:twitter&amp;sa=X&amp;ved=0ahUKEwiG39XEhIOEAxW1cfUHHQ4ZBcUQ4lYIESgG\">twitter</a><a class=\"TwVfHd\" href=\"/search?sca_esv=602383729&amp;biw=1920&amp;bih=937&amp;ie=UTF-8&amp;tbm=isch&amp;q=elon+musk&amp;chips=q:elon+musk,g_1:paypal&amp;sa=X&amp;ved=0ahUKEwiG39XEhIOEAxW1cfUHHQ4ZBcUQ4lYIEigH\">paypal</a><a class=\"TwVfHd\" href=\"/search?sca_esv=602383729&amp;biw=1920&amp;bih=937&amp;ie=UTF-8&amp;tbm=isch&amp;q=elon+musk&amp;chips=q:elon+musk,g_1:early&amp;sa=X&amp;ved=0ahUKEwiG39XEhIOEAxW1cfUHHQ4ZBcUQ4lYIEygI\">early</a><a class=\"TwVfHd\" href=\"/search?sca_esv=602383729&amp;biw=1920&amp;bih=937&amp;ie=UTF-8&amp;tbm=isch&amp;q=elon+musk&amp;chips=q:elon+musk,g_1:old&amp;sa=X&amp;ved=0ahUKEwiG39XEhIOEAxW1cfUHHQ4ZBcUQ4lYIFCgJ\">old</a></div><div><table class=\"GpQGbf\"><tr><td align=\"center\" class=\"e3goi\"><div class=\"jjVJ4e\"> <div> <div class=\"lIMUZd\"><div><table class=\"RntSmf\"><tr><td><a href=\"/url?q=https://en.wikipedia.org/wiki/Elon_Musk&amp;sa=U&amp;ved=2ahUKEwiG39XEhIOEAxW1cfUHHQ4ZBcUQqoUBegQIAhAB&amp;usg=AOvVaw0prZm_8PxP0xi2Y2czF5a-\"><div class=\"kCmkOe\"><img alt=\"\" class=\"DS1iW\" src=\"https://encrypted-tbn0.gstatic.com/images?q=tbn:ANd9GcSsksZmP_XTINDzPrOHKHR-fXCXDCXJctG2CPYNFjaVIxpN4gGIcQCd1n6N7-Y&amp;s\"/></div></a></td></tr><tr><td><a href=\"/url?q=https://en.wikipedia.org/wiki/Elon_Musk&amp;sa=U&amp;ved=2ahUKEwiG39XEhIOEAxW1cfUHHQ4ZBcUQr4kDegQIAhAC&amp;usg=AOvVaw2KfT2XL6aJUgtsudksUXDO\"><div class=\"AlD19d\"> <span class=\"qXLe6d x3G5ab\"> <span class=\"fYyStc\">Elon Musk - Wikipedia</span> </span> <span class=\"qXLe6d F9iS2e\"> <span class=\"fYyStc\">en.wikipedia.org</span> </span> </div></a></td></tr></table></div></div> </div> </div></td><td align=\"center\" class=\"e3goi\"><div class=\"jjVJ4e\"> <div> <div class=\"lIMUZd\"><div><table class=\"RntSmf\"><tr><td><a href=\"/url?q=https://www.businesstoday.in/latest/world/story/elon-musk-is-no-longer-the-richest-man-in-the-world-heres-who-beat-him-415076-2024-01-28&amp;sa=U&amp;ved=2ahUKEwiG39XEhIOEAxW1cfUHHQ4ZBcUQqoUBegQIERAB&amp;usg=AOvVaw1Ja_Ria7DUbR71h6BpygkF\"><div class=\"kCmkOe\"><img alt=\"\" class=\"DS1iW\" src=\"https://encrypted-tbn0.gstatic.com/images?q=tbn:ANd9GcSLv0qeo0DqjY0X5snavjynKQDK8YMaiOJY61N7aOXr8iCfGTwGsoNbuqm2N_A&amp;s\"/></div></a></td></tr><tr><td><a href=\"/url?q=https://www.businesstoday.in/latest/world/story/elon-musk-is-no-longer-the-richest-man-in-the-world-heres-who-beat-him-415076-2024-01-28&amp;sa=U&amp;ved=2ahUKEwiG39XEhIOEAxW1cfUHHQ4ZBcUQr4kDegQIERAC&amp;usg=AOvVaw0GzQTLkhMSPMjHug7Q3N1e\"><div class=\"AlD19d\"> <span class=\"qXLe6d x3G5ab\"> <span class=\"fYyStc\">Elon Musk is no longer the...</span> </span> <span class=\"qXLe6d F9iS2e\"> <span class=\"fYyStc\">www.businesstoday.in</span> </span> </div></a></td></tr></table></div></div> </div> </div></td><td align=\"center\" class=\"e3goi\"><div class=\"jjVJ4e\"> <div> <div class=\"lIMUZd\"><div><table class=\"RntSmf\"><tr><td><a href=\"/url?q=https://www.thehindu.com/business/Industry/elon-musk-borrowed-1-billion-from-spacex-in-same-month-of-twitter-buyout-wsj/article67275960.ece&amp;sa=U&amp;ved=2ahUKEwiG39XEhIOEAxW1cfUHHQ4ZBcUQqoUBegQIExAB&amp;usg=AOvVaw3Y0M5pFnX1tzmQjfYk05vh\"><div class=\"kCmkOe\"><img alt=\"\" class=\"DS1iW\" src=\"https://encrypted-tbn0.gstatic.com/images?q=tbn:ANd9GcT8USRafEDsJskFBsXuekeVU0wF4Tv3QI-ttuO5tq6ngEwFzxb17Zdvuzq_EjI&amp;s\"/></div></a></td></tr><tr><td><a href=\"/url?q=https://www.thehindu.com/business/Industry/elon-musk-borrowed-1-billion-from-spacex-in-same-month-of-twitter-buyout-wsj/article67275960.ece&amp;sa=U&amp;ved=2ahUKEwiG39XEhIOEAxW1cfUHHQ4ZBcUQr4kDegQIExAC&amp;usg=AOvVaw0mNBebGPm7iAL_gyH4haZC\"><div class=\"AlD19d\"> <span class=\"qXLe6d x3G5ab\"> <span class=\"fYyStc\">Elon Musk borrowed $1...</span> </span> <span class=\"qXLe6d F9iS2e\"> <span class=\"fYyStc\">www.thehindu.com</span> </span> </div></a></td></tr></table></div></div> </div> </div></td><td align=\"center\" class=\"e3goi\"><div class=\"jjVJ4e\"> <div> <div class=\"lIMUZd\"><div><table class=\"RntSmf\"><tr><td><a href=\"/url?q=https://m.economictimes.com/tech/technology/very-concerning-elon-musk-on-new-apple-app-store-changes-in-eu/articleshow/107188758.cms&amp;sa=U&amp;ved=2ahUKEwiG39XEhIOEAxW1cfUHHQ4ZBcUQqoUBegQIEhAB&amp;usg=AOvVaw3chALreqQ17QsM8YSzB6cI\"><div class=\"kCmkOe\"><img alt=\"\" class=\"DS1iW\" src=\"https://encrypted-tbn0.gstatic.com/images?q=tbn:ANd9GcSEsIE4rWf2QpvdSRddVLQZv4HdEWqNo1SgI_H8Og4nS2OMSLid7vHDKQcNlg&amp;s\"/></div></a></td></tr><tr><td><a href=\"/url?q=https://m.economictimes.com/tech/technology/very-concerning-elon-musk-on-new-apple-app-store-changes-in-eu/articleshow/107188758.cms&amp;sa=U&amp;ved=2ahUKEwiG39XEhIOEAxW1cfUHHQ4ZBcUQr4kDegQIEhAC&amp;usg=AOvVaw3zHXTUyNl_9HUxPokuSobm\"><div class=\"AlD19d\"> <span class=\"qXLe6d x3G5ab\"> <span class=\"fYyStc\">elon musk: Very concerning:...</span> </span> <span class=\"qXLe6d F9iS2e\"> <span class=\"fYyStc\">m.economictimes.com</span> </span> </div></a></td></tr></table></div></div> </div> </div></td></tr><tr><td align=\"center\" class=\"e3goi\"><div class=\"jjVJ4e\"> <div> <div class=\"lIMUZd\"><div><table class=\"RntSmf\"><tr><td><a href=\"/url?q=https://www.indiatoday.in/technology/news/story/elon-musk-is-scared-that-he-could-be-fired-from-tesla-says-he-could-be-voted-out-by-2493623-2024-01-25&amp;sa=U&amp;ved=2ahUKEwiG39XEhIOEAxW1cfUHHQ4ZBcUQqoUBegQIEBAB&amp;usg=AOvVaw2OWi00a4adNrJYDH6jOohI\"><div class=\"kCmkOe\"><img alt=\"\" class=\"DS1iW\" src=\"https://encrypted-tbn0.gstatic.com/images?q=tbn:ANd9GcS1FbuJC4rJ0WqdRrdWve5bByPT-Zd2pcvlW5nJaCdxYi5R0BHrP0Nc5Ubmeg&amp;s\"/></div></a></td></tr><tr><td><a href=\"/url?q=https://www.indiatoday.in/technology/news/story/elon-musk-is-scared-that-he-could-be-fired-from-tesla-says-he-could-be-voted-out-by-2493623-2024-01-25&amp;sa=U&amp;ved=2ahUKEwiG39XEhIOEAxW1cfUHHQ4ZBcUQr4kDegQIEBAC&amp;usg=AOvVaw2lmaQxjghBUOatU6JKUY4C\"><div class=\"AlD19d\"> <span class=\"qXLe6d x3G5ab\"> <span class=\"fYyStc\">Elon Musk is scared that he...</span> </span> <span class=\"qXLe6d F9iS2e\"> <span class=\"fYyStc\">www.indiatoday.in</span> </span> </div></a></td></tr></table></div></div> </div> </div></td><td align=\"center\" class=\"e3goi\"><div class=\"jjVJ4e\"> <div> <div class=\"lIMUZd\"><div><table class=\"RntSmf\"><tr><td><a href=\"/url?q=https://www.britannica.com/biography/Elon-Musk&amp;sa=U&amp;ved=2ahUKEwiG39XEhIOEAxW1cfUHHQ4ZBcUQqoUBegQIDxAB&amp;usg=AOvVaw2RtmzC-Pfa_zhLuOThCWU9\"><div class=\"kCmkOe\"><img alt=\"\" class=\"DS1iW\" src=\"https://encrypted-tbn0.gstatic.com/images?q=tbn:ANd9GcQY_R5NSNoZkSlMo3hf86COGJ4fCv0s6Nx4k8uCGkWc6YGOn_m4-rIOQ3GhOhg&amp;s\"/></div></a></td></tr><tr><td><a href=\"/url?q=https://www.britannica.com/biography/Elon-Musk&amp;sa=U&amp;ved=2ahUKEwiG39XEhIOEAxW1cfUHHQ4ZBcUQr4kDegQIDxAC&amp;usg=AOvVaw0S2IjxGFEARNmib3_rfRPg\"><div class=\"AlD19d\"> <span class=\"qXLe6d x3G5ab\"> <span class=\"fYyStc\">Elon Musk | Biography,...</span> </span> <span class=\"qXLe6d F9iS2e\"> <span class=\"fYyStc\">www.britannica.com</span> </span> </div></a></td></tr></table></div></div> </div> </div></td><td align=\"center\" class=\"e3goi\"><div class=\"jjVJ4e\"> <div> <div class=\"lIMUZd\"><div><table class=\"RntSmf\"><tr><td><a href=\"/url?q=https://m.economictimes.com/news/international/business/teslas-elon-musk-position-as-richest-person-on-planet-dethroned-by-bernard-arnault-here-are-details/articleshow/107200929.cms&amp;sa=U&amp;ved=2ahUKEwiG39XEhIOEAxW1cfUHHQ4ZBcUQqoUBegQIDhAB&amp;usg=AOvVaw0nLyUjAW6BaYLMc_LV4PI0\"><div class=\"kCmkOe\"><img alt=\"\" class=\"DS1iW\" src=\"https://encrypted-tbn0.gstatic.com/images?q=tbn:ANd9GcTeW21yLR-pLK3NrF2dgMjqtWp6pHpLG2UNFHjPt-twUN1kGkarG2pEloKIXWs&amp;s\"/></div></a></td></tr><tr><td><a href=\"/url?q=https://m.economictimes.com/news/international/business/teslas-elon-musk-position-as-richest-person-on-planet-dethroned-by-bernard-arnault-here-are-details/articleshow/107200929.cms&amp;sa=U&amp;ved=2ahUKEwiG39XEhIOEAxW1cfUHHQ4ZBcUQr4kDegQIDhAC&amp;usg=AOvVaw1SlINR3NQuV5L8UXMFc9JK\"><div class=\"AlD19d\"> <span class=\"qXLe6d x3G5ab\"> <span class=\"fYyStc\">Tesla's Elon Musk is no...</span> </span> <span class=\"qXLe6d F9iS2e\"> <span class=\"fYyStc\">m.economictimes.com</span> </span> </div></a></td></tr></table></div></div> </div> </div></td><td align=\"center\" class=\"e3goi\"><div class=\"jjVJ4e\"> <div> <div class=\"lIMUZd\"><div><table class=\"RntSmf\"><tr><td><a href=\"/url?q=https://www.ndtv.com/world-news/fashion-tycoon-bernard-arnault-overtakes-elon-musk-as-worlds-richest-his-net-worth-is-4951755&amp;sa=U&amp;ved=2ahUKEwiG39XEhIOEAxW1cfUHHQ4ZBcUQqoUBegQIDRAB&amp;usg=AOvVaw1USf634-0Kk7GbTqvHU69t\"><div class=\"kCmkOe\"><img alt=\"\" class=\"DS1iW\" src=\"https://encrypted-tbn0.gstatic.com/images?q=tbn:ANd9GcS0vlSA3IzdLZmLSlTBp1RvLVfZ1AxE0r3jMmQcOUENv4UbeiXrG4vXHBWsUQ&amp;s\"/></div></a></td></tr><tr><td><a href=\"/url?q=https://www.ndtv.com/world-news/fashion-tycoon-bernard-arnault-overtakes-elon-musk-as-worlds-richest-his-net-worth-is-4951755&amp;sa=U&amp;ved=2ahUKEwiG39XEhIOEAxW1cfUHHQ4ZBcUQr4kDegQIDRAC&amp;usg=AOvVaw32gJlUlP3BNzvF3W0Salue\"><div class=\"AlD19d\"> <span class=\"qXLe6d x3G5ab\"> <span class=\"fYyStc\">Elon Musk No Longer World's...</span> </span> <span class=\"qXLe6d F9iS2e\"> <span class=\"fYyStc\">www.ndtv.com</span> </span> </div></a></td></tr></table></div></div> </div> </div></td></tr><tr><td align=\"center\" class=\"e3goi\"><div class=\"jjVJ4e\"> <div> <div class=\"lIMUZd\"><div><table class=\"RntSmf\"><tr><td><a href=\"/url?q=https://www.simonandschuster.com/books/Elon-Musk/Walter-Isaacson/9781982181284&amp;sa=U&amp;ved=2ahUKEwiG39XEhIOEAxW1cfUHHQ4ZBcUQqoUBegQIDBAB&amp;usg=AOvVaw1z3J6znTE6Mbu9GplttnVA\"><div class=\"kCmkOe\"><img alt=\"\" class=\"DS1iW\" src=\"https://encrypted-tbn0.gstatic.com/images?q=tbn:ANd9GcS6PtbO3oSFgC1yh6BPlre0Sr5h3aca6UrEmg7ibGUrD1g40Xm5cZBGYl7G3PU&amp;s\"/></div></a></td></tr><tr><td><a href=\"/url?q=https://www.simonandschuster.com/books/Elon-Musk/Walter-Isaacson/9781982181284&amp;sa=U&amp;ved=2ahUKEwiG39XEhIOEAxW1cfUHHQ4ZBcUQr4kDegQIDBAC&amp;usg=AOvVaw0E3dAmTwPaY0T4C2nztoNh\"><div class=\"AlD19d\"> <span class=\"qXLe6d x3G5ab\"> <span class=\"fYyStc\">Elon Musk | Book by Walter...</span> </span> <span class=\"qXLe6d F9iS2e\"> <span class=\"fYyStc\">www.simonandschuster.com</span> </span> </div></a></td></tr></table></div></div> </div> </div></td><td align=\"center\" class=\"e3goi\"><div class=\"jjVJ4e\"> <div> <div class=\"lIMUZd\"><div><table class=\"RntSmf\"><tr><td><a href=\"/url?q=https://www.britannica.com/biography/Elon-Musk&amp;sa=U&amp;ved=2ahUKEwiG39XEhIOEAxW1cfUHHQ4ZBcUQqoUBegQICRAB&amp;usg=AOvVaw3Z6uvRusMbIUhwpGIqA7ha\"><div class=\"kCmkOe\"><img alt=\"\" class=\"DS1iW\" src=\"https://encrypted-tbn0.gstatic.com/images?q=tbn:ANd9GcS6mPr1g683xgMlTnJfswzPyIjixDUJCLKR_GUOYd43dGj0LB8Uum64r_cOjl4&amp;s\"/></div></a></td></tr><tr><td><a href=\"/url?q=https://www.britannica.com/biography/Elon-Musk&amp;sa=U&amp;ved=2ahUKEwiG39XEhIOEAxW1cfUHHQ4ZBcUQr4kDegQICRAC&amp;usg=AOvVaw29oEv3sb6HGoL3Fy42yxl6\"><div class=\"AlD19d\"> <span class=\"qXLe6d x3G5ab\"> <span class=\"fYyStc\">Elon Musk | Biography,...</span> </span> <span class=\"qXLe6d F9iS2e\"> <span class=\"fYyStc\">www.britannica.com</span> </span> </div></a></td></tr></table></div></div> </div> </div></td><td align=\"center\" class=\"e3goi\"><div class=\"jjVJ4e\"> <div> <div class=\"lIMUZd\"><div><table class=\"RntSmf\"><tr><td><a href=\"/url?q=https://www.indiatoday.in/technology/news/story/elon-musk-calls-ai-the-most-destructive-force-in-history-says-it-will-take-away-all-jobs-2457564-2023-11-03&amp;sa=U&amp;ved=2ahUKEwiG39XEhIOEAxW1cfUHHQ4ZBcUQqoUBegQIChAB&amp;usg=AOvVaw0Kvc9wN8_rSCP7ESvWOBDf\"><div class=\"kCmkOe\"><img alt=\"\" class=\"DS1iW\" src=\"https://encrypted-tbn0.gstatic.com/images?q=tbn:ANd9GcTgNbVQVDauZrUNiK3mvNVzIxJ1FDm97Nn2Ya_7QGeeZshzZ1akyWQa3RJXoQ&amp;s\"/></div></a></td></tr><tr><td><a href=\"/url?q=https://www.indiatoday.in/technology/news/story/elon-musk-calls-ai-the-most-destructive-force-in-history-says-it-will-take-away-all-jobs-2457564-2023-11-03&amp;sa=U&amp;ved=2ahUKEwiG39XEhIOEAxW1cfUHHQ4ZBcUQr4kDegQIChAC&amp;usg=AOvVaw2YXZ7dAtq9WY0MfXR-NnGR\"><div class=\"AlD19d\"> <span class=\"qXLe6d x3G5ab\"> <span class=\"fYyStc\">Elon Musk calls AI the most...</span> </span> <span class=\"qXLe6d F9iS2e\"> <span class=\"fYyStc\">www.indiatoday.in</span> </span> </div></a></td></tr></table></div></div> </div> </div></td><td align=\"center\" class=\"e3goi\"><div class=\"jjVJ4e\"> <div> <div class=\"lIMUZd\"><div><table class=\"RntSmf\"><tr><td><a href=\"/url?q=https://www.livemint.com/web-stories/5-tips-by-elon-musk-for-younger-generation-11693721028058.html&amp;sa=U&amp;ved=2ahUKEwiG39XEhIOEAxW1cfUHHQ4ZBcUQqoUBegQICxAB&amp;usg=AOvVaw1O3WJyZAbFO-waUfao1ur2\"><div class=\"kCmkOe\"><img alt=\"\" class=\"DS1iW\" src=\"https://encrypted-tbn0.gstatic.com/images?q=tbn:ANd9GcQpW557bpiu1cONr5nxu042mw7D6ZjF3ndd2-RtBgU7Lvs8BqmeN1uuV8sHrBU&amp;s\"/></div></a></td></tr><tr><td><a href=\"/url?q=https://www.livemint.com/web-stories/5-tips-by-elon-musk-for-younger-generation-11693721028058.html&amp;sa=U&amp;ved=2ahUKEwiG39XEhIOEAxW1cfUHHQ4ZBcUQr4kDegQICxAC&amp;usg=AOvVaw1Za4aOHEFzDzk8lUSJ9JCr\"><div class=\"AlD19d\"> <span class=\"qXLe6d x3G5ab\"> <span class=\"fYyStc\">5 Tips by Elon Musk for...</span> </span> <span class=\"qXLe6d F9iS2e\"> <span class=\"fYyStc\">www.livemint.com</span> </span> </div></a></td></tr></table></div></div> </div> </div></td></tr><tr><td align=\"center\" class=\"e3goi\"><div class=\"jjVJ4e\"> <div> <div class=\"lIMUZd\"><div><table class=\"RntSmf\"><tr><td><a href=\"/url?q=https://www.ndtv.com/world-news/fashion-tycoon-bernard-arnault-overtakes-elon-musk-as-worlds-richest-his-net-worth-is-4951755&amp;sa=U&amp;ved=2ahUKEwiG39XEhIOEAxW1cfUHHQ4ZBcUQqoUBegQICBAB&amp;usg=AOvVaw09SCwb5Db5MS6O1Z3TpVVA\"><div class=\"kCmkOe\"><img alt=\"\" class=\"DS1iW\" src=\"https://encrypted-tbn0.gstatic.com/images?q=tbn:ANd9GcQJwZgmczykYyney4sAAoAF6QqRbO4dq5i3GaWOuv5Ly_5NDPIjnHH7ob7JqA&amp;s\"/></div></a></td></tr><tr><td><a href=\"/url?q=https://www.ndtv.com/world-news/fashion-tycoon-bernard-arnault-overtakes-elon-musk-as-worlds-richest-his-net-worth-is-4951755&amp;sa=U&amp;ved=2ahUKEwiG39XEhIOEAxW1cfUHHQ4ZBcUQr4kDegQICBAC&amp;usg=AOvVaw34FkhPC0LEp0q26C3zhhuA\"><div class=\"AlD19d\"> <span class=\"qXLe6d x3G5ab\"> <span class=\"fYyStc\">Elon Musk No Longer World's...</span> </span> <span class=\"qXLe6d F9iS2e\"> <span class=\"fYyStc\">www.ndtv.com</span> </span> </div></a></td></tr></table></div></div> </div> </div></td><td align=\"center\" class=\"e3goi\"><div class=\"jjVJ4e\"> <div> <div class=\"lIMUZd\"><div><table class=\"RntSmf\"><tr><td><a href=\"/url?q=https://www.biography.com/business-leaders/elon-musk&amp;sa=U&amp;ved=2ahUKEwiG39XEhIOEAxW1cfUHHQ4ZBcUQqoUBegQIBxAB&amp;usg=AOvVaw3g49LAMYCDXC4DRqqwQAB1\"><div class=\"kCmkOe\"><img alt=\"\" class=\"DS1iW\" src=\"https://encrypted-tbn0.gstatic.com/images?q=tbn:ANd9GcSWquD3V9PShopfxR5z4mBgB3IZnXGWVDSQM_48N0nbiI_0DYg43GVIktea3Uc&amp;s\"/></div></a></td></tr><tr><td><a href=\"/url?q=https://www.biography.com/business-leaders/elon-musk&amp;sa=U&amp;ved=2ahUKEwiG39XEhIOEAxW1cfUHHQ4ZBcUQr4kDegQIBxAC&amp;usg=AOvVaw1uxu9qXLXKsW7fDmq_FbD6\"><div class=\"AlD19d\"> <span class=\"qXLe6d x3G5ab\"> <span class=\"fYyStc\">Elon Musk - Tesla, Age &amp;...</span> </span> <span class=\"qXLe6d F9iS2e\"> <span class=\"fYyStc\">www.biography.com</span> </span> </div></a></td></tr></table></div></div> </div> </div></td><td align=\"center\" class=\"e3goi\"><div class=\"jjVJ4e\"> <div> <div class=\"lIMUZd\"><div><table class=\"RntSmf\"><tr><td><a href=\"/url?q=https://www.business-standard.com/about/who-is-elon-musk&amp;sa=U&amp;ved=2ahUKEwiG39XEhIOEAxW1cfUHHQ4ZBcUQqoUBegQIBBAB&amp;usg=AOvVaw1EJ_9c-jpc9JAcqfv5uyJn\"><div class=\"kCmkOe\"><img alt=\"\" class=\"DS1iW\" src=\"https://encrypted-tbn0.gstatic.com/images?q=tbn:ANd9GcRCax0IRz4OOmHKuV7qQcm5HkyK1sOPbuAUx97ShyThnpi_EZlA8EL1AFQ_FUU&amp;s\"/></div></a></td></tr><tr><td><a href=\"/url?q=https://www.business-standard.com/about/who-is-elon-musk&amp;sa=U&amp;ved=2ahUKEwiG39XEhIOEAxW1cfUHHQ4ZBcUQr4kDegQIBBAC&amp;usg=AOvVaw1zsg4P8vrd3TR8xgnmwiqG\"><div class=\"AlD19d\"> <span class=\"qXLe6d x3G5ab\"> <span class=\"fYyStc\">Who is Elon Musk: Latest...</span> </span> <span class=\"qXLe6d F9iS2e\"> <span class=\"fYyStc\">www.business-standard.com</span> </span> </div></a></td></tr></table></div></div> </div> </div></td><td align=\"center\" class=\"e3goi\"><div class=\"jjVJ4e\"> <div> <div class=\"lIMUZd\"><div><table class=\"RntSmf\"><tr><td><a href=\"/url?q=https://m.economictimes.com/tech/technology/elon-musk-seeks-25-voting-share-at-tesla/articleshow/106880922.cms&amp;sa=U&amp;ved=2ahUKEwiG39XEhIOEAxW1cfUHHQ4ZBcUQqoUBegQIABAB&amp;usg=AOvVaw2qivXoKfrg0_EEeZbM8i3X\"><div class=\"kCmkOe\"><img alt=\"\" class=\"DS1iW\" src=\"https://encrypted-tbn0.gstatic.com/images?q=tbn:ANd9GcQJoQvW3RFXw1F5lq-IjR-y1jI9lbiK6KFNmgYuBT0yQrEXzDM7EL8nnc49mQ&amp;s\"/></div></a></td></tr><tr><td><a href=\"/url?q=https://m.economictimes.com/tech/technology/elon-musk-seeks-25-voting-share-at-tesla/articleshow/106880922.cms&amp;sa=U&amp;ved=2ahUKEwiG39XEhIOEAxW1cfUHHQ4ZBcUQr4kDegQIABAC&amp;usg=AOvVaw1eBF5wxM6KNsBAhVGrbkf6\"><div class=\"AlD19d\"> <span class=\"qXLe6d x3G5ab\"> <span class=\"fYyStc\">Elon Musk: Elon Musk seeks...</span> </span> <span class=\"qXLe6d F9iS2e\"> <span class=\"fYyStc\">m.economictimes.com</span> </span> </div></a></td></tr></table></div></div> </div> </div></td></tr><tr><td align=\"center\" class=\"e3goi\"><div class=\"jjVJ4e\"> <div> <div class=\"lIMUZd\"><div><table class=\"RntSmf\"><tr><td><a href=\"/url?q=https://www.nbcnews.com/tech/tech-news/elon-musks-takes-x-handle-longtime-twitter-user-rcna96074&amp;sa=U&amp;ved=2ahUKEwiG39XEhIOEAxW1cfUHHQ4ZBcUQqoUBegQIAxAB&amp;usg=AOvVaw28WoE36yhCcywfP6Pd8jw3\"><div class=\"kCmkOe\"><img alt=\"\" class=\"DS1iW\" src=\"https://encrypted-tbn0.gstatic.com/images?q=tbn:ANd9GcSxyywP_Ufa3rXvMjpDGtyNiZPboOzxcLpztBQtHRQttH6ZpEqh8eKPj83p42k&amp;s\"/></div></a></td></tr><tr><td><a href=\"/url?q=https://www.nbcnews.com/tech/tech-news/elon-musks-takes-x-handle-longtime-twitter-user-rcna96074&amp;sa=U&amp;ved=2ahUKEwiG39XEhIOEAxW1cfUHHQ4ZBcUQr4kDegQIAxAC&amp;usg=AOvVaw3DU-pwF5rKeWltQLrjNaJP\"><div class=\"AlD19d\"> <span class=\"qXLe6d x3G5ab\"> <span class=\"fYyStc\">230724-elon-musk-ac-1041p-...</span> </span> <span class=\"qXLe6d F9iS2e\"> <span class=\"fYyStc\">www.nbcnews.com</span> </span> </div></a></td></tr></table></div></div> </div> </div></td><td align=\"center\" class=\"e3goi\"><div class=\"jjVJ4e\"> <div> <div class=\"lIMUZd\"><div><table class=\"RntSmf\"><tr><td><a href=\"/url?q=https://abcnews.go.com/Business/timeline-elon-musks-tumultuous-twitter-acquisition-attempt/story%3Fid%3D86611191&amp;sa=U&amp;ved=2ahUKEwiG39XEhIOEAxW1cfUHHQ4ZBcUQqoUBegQIARAB&amp;usg=AOvVaw1wC3HJgtiHLy716uYsio53\"><div class=\"kCmkOe\"><img alt=\"\" class=\"DS1iW\" src=\"https://encrypted-tbn0.gstatic.com/images?q=tbn:ANd9GcSPf6wPoGZNPac4YVeTr95bTPwHEDU2Sl65hmiAwywZr39gPkk2lsAmYvpUog&amp;s\"/></div></a></td></tr><tr><td><a href=\"/url?q=https://abcnews.go.com/Business/timeline-elon-musks-tumultuous-twitter-acquisition-attempt/story%3Fid%3D86611191&amp;sa=U&amp;ved=2ahUKEwiG39XEhIOEAxW1cfUHHQ4ZBcUQr4kDegQIARAC&amp;usg=AOvVaw0GpgsDhF3pIMJ3z1nN8FJg\"><div class=\"AlD19d\"> <span class=\"qXLe6d x3G5ab\"> <span class=\"fYyStc\">A timeline of Elon Musk's...</span> </span> <span class=\"qXLe6d F9iS2e\"> <span class=\"fYyStc\">abcnews.go.com</span> </span> </div></a></td></tr></table></div></div> </div> </div></td><td align=\"center\" class=\"e3goi\"><div class=\"jjVJ4e\"> <div> <div class=\"lIMUZd\"><div><table class=\"RntSmf\"><tr><td><a href=\"/url?q=https://www.wired.com/story/plaintext-elon-musk-happy-child-launching-rockets/&amp;sa=U&amp;ved=2ahUKEwiG39XEhIOEAxW1cfUHHQ4ZBcUQqoUBegQIBRAB&amp;usg=AOvVaw0mDxMDgOJCGmp93q81rLGG\"><div class=\"kCmkOe\"><img alt=\"\" class=\"DS1iW\" src=\"https://encrypted-tbn0.gstatic.com/images?q=tbn:ANd9GcQoVC24-iwfmg1ynOoPkfB6fTOMKA4IEscvasg7lr_QSTQQIUU8Gq65d0EOoQ&amp;s\"/></div></a></td></tr><tr><td><a href=\"/url?q=https://www.wired.com/story/plaintext-elon-musk-happy-child-launching-rockets/&amp;sa=U&amp;ved=2ahUKEwiG39XEhIOEAxW1cfUHHQ4ZBcUQr4kDegQIBRAC&amp;usg=AOvVaw0lzw6nrmXgUj1guGOWKzUA\"><div class=\"AlD19d\"> <span class=\"qXLe6d x3G5ab\"> <span class=\"fYyStc\">If Elon Musk Had Been a...</span> </span> <span class=\"qXLe6d F9iS2e\"> <span class=\"fYyStc\">www.wired.com</span> </span> </div></a></td></tr></table></div></div> </div> </div></td><td align=\"center\" class=\"e3goi\"><div class=\"jjVJ4e\"> <div> <div class=\"lIMUZd\"><div><table class=\"RntSmf\"><tr><td><a href=\"/url?q=https://www.rechargenews.com/energy-transition/elon-musk-tesla-energy-storage-now-growing-much-faster-than-car-business/2-1-1588464&amp;sa=U&amp;ved=2ahUKEwiG39XEhIOEAxW1cfUHHQ4ZBcUQqoUBegQIBhAB&amp;usg=AOvVaw2-32D5X_bt0eSEpetvP6IT\"><div class=\"kCmkOe\"><img alt=\"\" class=\"DS1iW\" src=\"https://encrypted-tbn0.gstatic.com/images?q=tbn:ANd9GcS6zbwQfrZJL19Q9HKIc11izsiRYoLYBu0GaVKXl11d079_Z2ozXHJ9Ggc3r2g&amp;s\"/></div></a></td></tr><tr><td><a href=\"/url?q=https://www.rechargenews.com/energy-transition/elon-musk-tesla-energy-storage-now-growing-much-faster-than-car-business/2-1-1588464&amp;sa=U&amp;ved=2ahUKEwiG39XEhIOEAxW1cfUHHQ4ZBcUQr4kDegQIBhAC&amp;usg=AOvVaw1zkvm6zuRk4MUfsAx0nLpG\"><div class=\"AlD19d\"> <span class=\"qXLe6d x3G5ab\"> <span class=\"fYyStc\">Elon Musk: Tesla energy...</span> </span> <span class=\"qXLe6d F9iS2e\"> <span class=\"fYyStc\">www.rechargenews.com</span> </span> </div></a></td></tr></table></div></div> </div> </div></td></tr></table></div><table class=\"uZgmoc\"><tbody><td><a class=\"frGj1b\" href=\"/search?q=elon+musk&amp;sca_esv=602383729&amp;biw=1920&amp;bih=937&amp;ie=UTF-8&amp;tbm=isch&amp;ei=p9S3ZcbvELXj1e8PjrKUqAw&amp;start=20&amp;sa=N\">Next &gt;</a></td></tbody></table><br/><div class=\"TuS8Ad\" data-ved=\"0ahUKEwiG39XEhIOEAxW1cfUHHQ4ZBcUQpyoIUg\"><style>.VYM29{font-weight:bold}</style><div align=\"center\" class=\"HddGcc\"><span class=\"VYM29\">Baraulikhalilabad, Uttar Pradesh</span><span> - </span><span>From your IP address</span><span> - </span><a href=\"/url?q=https://support.google.com/websearch%3Fp%3Dws_settings_location%26hl%3Den-IN&amp;opi=89978449&amp;sa=U&amp;ved=0ahUKEwiG39XEhIOEAxW1cfUHHQ4ZBcUQty4IUw&amp;usg=AOvVaw15IpC1XmYQbIcpsLEEsU4R\">Learn more</a></div><div align=\"center\"><a class=\"rEM8G\" href=\"/url?q=https://accounts.google.com/ServiceLogin%3Fcontinue%3Dhttps://www.google.com/search%253Fq%253Delon%252Bmusk%2526sxsrf%253DAJOqlzUuff1RXi2mm8I_OqOwT9VjfIDL7w:1676996143273%2526source%253Dlnms%2526tbm%253Disch%2526sa%253DX%2526ved%253D2ahUKEwiq-qK7gaf9AhXUgVYBHYReAfYQ_AUoA3oECAEQBQ%2526biw%253D1920%2526bih%253D937%2526dpr%253D1%26hl%3Den&amp;opi=89978449&amp;sa=U&amp;ved=0ahUKEwiG39XEhIOEAxW1cfUHHQ4ZBcUQxs8CCFQ&amp;usg=AOvVaw3NT1_1u-8ND1uhyqXqr5Ly\">Sign in</a></div><div><table class=\"bookcf\"><tbody class=\"InWNIe\"><tr><td><a class=\"rEM8G\" href=\"https://www.google.com/preferences?hl=en&amp;sa=X&amp;ved=0ahUKEwiG39XEhIOEAxW1cfUHHQ4ZBcUQv5YECFU\">Settings</a></td><td><a class=\"rEM8G\" href=\"https://www.google.com/intl/en_in/policies/privacy/\">Privacy</a></td><td><a class=\"rEM8G\" href=\"https://www.google.com/intl/en_in/policies/terms/\">Terms</a></td></tr></tbody></table></div></div><div> </div></body></html>"
      ]
     },
     "execution_count": 9,
     "metadata": {},
     "output_type": "execute_result"
    }
   ],
   "source": [
    "bsoup"
   ]
  },
  {
   "cell_type": "code",
   "execution_count": 11,
   "id": "6ac8e625",
   "metadata": {},
   "outputs": [],
   "source": [
    "img_tags = bsoup.find_all(\"img\")"
   ]
  },
  {
   "cell_type": "code",
   "execution_count": 12,
   "id": "482810e2",
   "metadata": {},
   "outputs": [],
   "source": [
    "del img_tags[0]"
   ]
  },
  {
   "cell_type": "code",
   "execution_count": 14,
   "id": "39676bee",
   "metadata": {},
   "outputs": [],
   "source": [
    "image_data_mongo = []\n",
    "for i in img_tags:\n",
    "    image_url =  i['src']\n",
    "    image_data = requests.get(image_url).content\n",
    "    mydict = {\"index\" : image_url , \"image\" : image_data}\n",
    "    image_data_mongo.append(mydict)\n",
    "    with open(os.path.join(\"D:\\Pranjal App\\Data Science\\PHYSICS_WALLAH\\VS_CODE_PROG\\image_scrapper\",f\"{query}_{img_tags.index(i)}.jpg\") , \"wb\") as f :\n",
    "                           f.write(image_data)"
   ]
  },
  {
   "cell_type": "code",
   "execution_count": null,
   "id": "2272be88",
   "metadata": {},
   "outputs": [],
   "source": []
  }
 ],
 "metadata": {
  "kernelspec": {
   "display_name": "Python 3 (ipykernel)",
   "language": "python",
   "name": "python3"
  },
  "language_info": {
   "codemirror_mode": {
    "name": "ipython",
    "version": 3
   },
   "file_extension": ".py",
   "mimetype": "text/x-python",
   "name": "python",
   "nbconvert_exporter": "python",
   "pygments_lexer": "ipython3",
   "version": "3.9.13"
  }
 },
 "nbformat": 4,
 "nbformat_minor": 5
}
