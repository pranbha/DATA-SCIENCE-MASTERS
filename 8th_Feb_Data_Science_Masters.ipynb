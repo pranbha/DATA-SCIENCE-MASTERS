{
 "cells": [
  {
   "cell_type": "code",
   "execution_count": 6,
   "id": "524dcb9f",
   "metadata": {},
   "outputs": [
    {
     "name": "stdout",
     "output_type": "stream",
     "text": [
      "5\n",
      "Pranjal Bhardwaj\n",
      "[1, 2, 3, 4, 5, 6, 7, 8, 9, 10]\n"
     ]
    }
   ],
   "source": [
    "def test(a,b):\n",
    "    return a + b\n",
    "print(test(2,3))\n",
    "print(test(\"Pranjal\", \" Bhardwaj\"))\n",
    "print(test([1,2,3,4,5], [6,7,8,9,10]))"
   ]
  },
  {
   "cell_type": "markdown",
   "id": "064c6260",
   "metadata": {},
   "source": [
    "Encapsulation"
   ]
  },
  {
   "cell_type": "code",
   "execution_count": 7,
   "id": "cc029604",
   "metadata": {},
   "outputs": [
    {
     "data": {
      "text/plain": [
       "2023"
      ]
     },
     "execution_count": 7,
     "metadata": {},
     "output_type": "execute_result"
    }
   ],
   "source": [
    "class car:\n",
    "    def __init__(self, year, make, model):\n",
    "        self.__year = year\n",
    "        self.__make = make\n",
    "        self.__model = model\n",
    "        \n",
    "object_car = car(2021, \"Honda\", \"City\")\n",
    "object_car._car__year = 2023\n",
    "object_car._car__year"
   ]
  },
  {
   "cell_type": "code",
   "execution_count": 10,
   "id": "9a8ffadc",
   "metadata": {},
   "outputs": [],
   "source": [
    "class bank_account:\n",
    "    def __init__(self, balance):\n",
    "        self.__balance = balance\n",
    "    def deposit(self, amount):\n",
    "        self.__balance = self.__balance + amount\n",
    "    def withdraw(self, amount):\n",
    "        if self.__balance >= amount:\n",
    "            self.__balance = self.__balance - amount\n",
    "        else:\n",
    "            return \"Insufficient balance\"\n",
    "    def get_balance(self):\n",
    "        return self.__balance"
   ]
  },
  {
   "cell_type": "code",
   "execution_count": 15,
   "id": "bcae91e4",
   "metadata": {},
   "outputs": [
    {
     "data": {
      "text/plain": [
       "3000"
      ]
     },
     "execution_count": 15,
     "metadata": {},
     "output_type": "execute_result"
    }
   ],
   "source": [
    "obj = bank_account(1000)\n",
    "obj.deposit(5000)\n",
    "obj.get_balance()\n",
    "obj.withdraw(3000)\n",
    "obj.get_balance()"
   ]
  },
  {
   "cell_type": "markdown",
   "id": "15ade540",
   "metadata": {},
   "source": [
    "Inheritance"
   ]
  },
  {
   "cell_type": "code",
   "execution_count": 17,
   "id": "99c71efb",
   "metadata": {},
   "outputs": [
    {
     "name": "stdout",
     "output_type": "stream",
     "text": [
      "this is parent class\n"
     ]
    }
   ],
   "source": [
    "class parent:\n",
    "    def test1(self):\n",
    "        print(\"This is parent class\")\n",
    "class child(parent):\n",
    "    def test2(self):\n",
    "        pass\n",
    "obj = child()\n",
    "obj.test1()"
   ]
  },
  {
   "cell_type": "code",
   "execution_count": 21,
   "id": "a3b08142",
   "metadata": {},
   "outputs": [
    {
     "name": "stdout",
     "output_type": "stream",
     "text": [
      "This is class 1\n",
      "This is class 2\n",
      "This is class 3\n"
     ]
    }
   ],
   "source": [
    "#Multiple Inheritance\n",
    "class class1:\n",
    "    def test1(self):\n",
    "        print(\"This is class 1\")\n",
    "class class2(class1):\n",
    "    def test2(self):\n",
    "        print(\"This is class 2\")\n",
    "class class3(class2):\n",
    "    def test3(self):\n",
    "        print(\"This is class 3\")\n",
    "        \n",
    "obj_class3 = class3()\n",
    "obj_class3.test1()\n",
    "obj_class3.test2()\n",
    "obj_class3.test3()"
   ]
  },
  {
   "cell_type": "code",
   "execution_count": 22,
   "id": "4e4c6cc2",
   "metadata": {},
   "outputs": [
    {
     "name": "stdout",
     "output_type": "stream",
     "text": [
      "This is class 1\n",
      "This is class 2\n"
     ]
    }
   ],
   "source": [
    "#Multiple Inheritance\n",
    "class class1:\n",
    "    def test1(self):\n",
    "        print(\"This is class 1\")\n",
    "class class2:\n",
    "    def test2(self):\n",
    "        print(\"This is class 2\")\n",
    "class class3(class1, class2):\n",
    "    pass\n",
    "\n",
    "obj = class3()\n",
    "obj.test1()\n",
    "obj.test2()"
   ]
  },
  {
   "cell_type": "markdown",
   "id": "66e66576",
   "metadata": {},
   "source": [
    "Abstraction"
   ]
  },
  {
   "cell_type": "code",
   "execution_count": 23,
   "id": "94a4d327",
   "metadata": {},
   "outputs": [],
   "source": [
    "import abc\n",
    "class pwskills:\n",
    "    @abc.abstractmethod\n",
    "    def student_details(self):\n",
    "        pass\n",
    "    \n",
    "    @abc.abstractmethod\n",
    "    def student_assignment(self):\n",
    "        pass\n",
    "    \n",
    "    @abc.abstractmethod\n",
    "    def student_marks(self):\n",
    "        pass\n",
    "    \n",
    "class datascience(pwskills):\n",
    "    def student_details(self):\n",
    "        return \"student details of data science masters\"\n",
    "    \n",
    "    def student_assignment(self):\n",
    "        return \"details of student assignment of data science masters\"\n",
    "    \n",
    "class web_dev(pwskills):\n",
    "    def student_details(self):\n",
    "        return \"student detils of web development\"\n",
    "    \n",
    "    def student_marks(self):\n",
    "        return \"student marks for web development\"\n",
    "    "
   ]
  },
  {
   "cell_type": "code",
   "execution_count": 25,
   "id": "19b33120",
   "metadata": {},
   "outputs": [
    {
     "data": {
      "text/plain": [
       "'student details of data science masters'"
      ]
     },
     "execution_count": 25,
     "metadata": {},
     "output_type": "execute_result"
    }
   ],
   "source": [
    "obj = datascience()\n",
    "obj.student_details()"
   ]
  },
  {
   "cell_type": "code",
   "execution_count": null,
   "id": "86654818",
   "metadata": {},
   "outputs": [],
   "source": []
  }
 ],
 "metadata": {
  "kernelspec": {
   "display_name": "Python 3 (ipykernel)",
   "language": "python",
   "name": "python3"
  },
  "language_info": {
   "codemirror_mode": {
    "name": "ipython",
    "version": 3
   },
   "file_extension": ".py",
   "mimetype": "text/x-python",
   "name": "python",
   "nbconvert_exporter": "python",
   "pygments_lexer": "ipython3",
   "version": "3.9.13"
  }
 },
 "nbformat": 4,
 "nbformat_minor": 5
}
