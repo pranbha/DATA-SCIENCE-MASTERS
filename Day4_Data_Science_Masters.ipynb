{
 "cells": [
  {
   "cell_type": "code",
   "execution_count": 1,
   "id": "e1c93c21",
   "metadata": {},
   "outputs": [
    {
     "data": {
      "text/plain": [
       "'a n t'"
      ]
     },
     "execution_count": 1,
     "metadata": {},
     "output_type": "execute_result"
    }
   ],
   "source": [
    "\" \".join(\"ant\")"
   ]
  },
  {
   "cell_type": "code",
   "execution_count": 2,
   "id": "ac686e77",
   "metadata": {},
   "outputs": [
    {
     "data": {
      "text/plain": [
       "'t n a'"
      ]
     },
     "execution_count": 2,
     "metadata": {},
     "output_type": "execute_result"
    }
   ],
   "source": [
    "\" \".join(reversed(\"ant\"))"
   ]
  },
  {
   "cell_type": "code",
   "execution_count": 5,
   "id": "b48225c6",
   "metadata": {},
   "outputs": [
    {
     "data": {
      "text/plain": [
       "'t ab n ab a'"
      ]
     },
     "execution_count": 5,
     "metadata": {},
     "output_type": "execute_result"
    }
   ],
   "source": [
    "\" ab \".join(reversed(\"ant\"))"
   ]
  },
  {
   "cell_type": "code",
   "execution_count": 6,
   "id": "b89b33fc",
   "metadata": {},
   "outputs": [
    {
     "data": {
      "text/plain": [
       "['t', 'n', 'a']"
      ]
     },
     "execution_count": 6,
     "metadata": {},
     "output_type": "execute_result"
    }
   ],
   "source": [
    "list(reversed(\"ant\"))"
   ]
  },
  {
   "cell_type": "code",
   "execution_count": 7,
   "id": "8326b26f",
   "metadata": {},
   "outputs": [
    {
     "name": "stdout",
     "output_type": "stream",
     "text": [
      "syuG olleH"
     ]
    }
   ],
   "source": [
    "a=\"Hello Guys\"\n",
    "for i in list(reversed(a)):\n",
    "    print(i,end=\"\")"
   ]
  },
  {
   "cell_type": "code",
   "execution_count": 10,
   "id": "38cfdd85",
   "metadata": {},
   "outputs": [
    {
     "name": "stdout",
     "output_type": "stream",
     "text": [
      "123454"
     ]
    }
   ],
   "source": [
    "list1=[1,2,3,4,5,4]\n",
    "for i in list1:\n",
    "    print(i,end=\"\")"
   ]
  },
  {
   "cell_type": "code",
   "execution_count": 12,
   "id": "97ccfb5a",
   "metadata": {},
   "outputs": [
    {
     "name": "stdout",
     "output_type": "stream",
     "text": [
      "hello 1 2 3 4 bye "
     ]
    }
   ],
   "source": [
    "lst=[\"hello\",1,2,3,4,\"bye\"]\n",
    "for i in lst:\n",
    "    print(i,end=\" \")"
   ]
  },
  {
   "cell_type": "code",
   "execution_count": 16,
   "id": "fc554333",
   "metadata": {},
   "outputs": [
    {
     "name": "stdout",
     "output_type": "stream",
     "text": [
      "1 2 Hello Guys 3 4 5 Chai 6 7 8 Peelo "
     ]
    }
   ],
   "source": [
    "list_1=[1,2,\"Hello\", \"Guys\", 3,4,5, \"Chai\", 6,7,8, \"Peelo\"]\n",
    "for i in list_1:\n",
    "    print(i,end=\" \")"
   ]
  },
  {
   "cell_type": "code",
   "execution_count": 17,
   "id": "1c4ba613",
   "metadata": {},
   "outputs": [
    {
     "name": "stdout",
     "output_type": "stream",
     "text": [
      "Hello Guys Chai Peelo "
     ]
    }
   ],
   "source": [
    "list_1=[\"Hello\", \"Guys\", \"Chai\", \"Peelo\"]\n",
    "for i in list_1:\n",
    "    print(i,end=\" \")"
   ]
  },
  {
   "cell_type": "code",
   "execution_count": 13,
   "id": "122b9d15",
   "metadata": {},
   "outputs": [
    {
     "name": "stdout",
     "output_type": "stream",
     "text": [
      "Hello\n"
     ]
    }
   ],
   "source": [
    "string1=\" Hello \"\n",
    "print(string1.strip(\" \"))"
   ]
  },
  {
   "cell_type": "code",
   "execution_count": 14,
   "id": "5be13dbf",
   "metadata": {},
   "outputs": [
    {
     "data": {
      "text/plain": [
       "'How are you ?'"
      ]
     },
     "execution_count": 14,
     "metadata": {},
     "output_type": "execute_result"
    }
   ],
   "source": [
    "string2=\"How is you ?\"\n",
    "string2.replace(\"is\", \"are\")"
   ]
  },
  {
   "cell_type": "code",
   "execution_count": 15,
   "id": "c1e92a6e",
   "metadata": {},
   "outputs": [
    {
     "data": {
      "text/plain": [
       "'olleH'"
      ]
     },
     "execution_count": 15,
     "metadata": {},
     "output_type": "execute_result"
    }
   ],
   "source": [
    "\"\".join(reversed(\"Hello\"))"
   ]
  },
  {
   "cell_type": "code",
   "execution_count": 18,
   "id": "b27ef86d",
   "metadata": {},
   "outputs": [
    {
     "data": {
      "text/plain": [
       "False"
      ]
     },
     "execution_count": 18,
     "metadata": {},
     "output_type": "execute_result"
    }
   ],
   "source": [
    "str1=\"Hello\"\n",
    "str1.isupper()"
   ]
  },
  {
   "cell_type": "code",
   "execution_count": 33,
   "id": "585c6f77",
   "metadata": {},
   "outputs": [
    {
     "data": {
      "text/plain": [
       "True"
      ]
     },
     "execution_count": 33,
     "metadata": {},
     "output_type": "execute_result"
    }
   ],
   "source": [
    "str1=\"HELLO\"\n",
    "str1.isupper()"
   ]
  },
  {
   "cell_type": "code",
   "execution_count": 20,
   "id": "bc04479a",
   "metadata": {},
   "outputs": [
    {
     "data": {
      "text/plain": [
       "True"
      ]
     },
     "execution_count": 20,
     "metadata": {},
     "output_type": "execute_result"
    }
   ],
   "source": [
    "str1.endswith(\"O\")"
   ]
  },
  {
   "cell_type": "code",
   "execution_count": 35,
   "id": "46fbf93f",
   "metadata": {},
   "outputs": [
    {
     "name": "stdout",
     "output_type": "stream",
     "text": [
      "O\n",
      "L\n",
      "L\n",
      "E\n",
      "H\n"
     ]
    }
   ],
   "source": [
    "ch=len(str1)-1\n",
    "while ch>=0:\n",
    "    print(str1[ch])\n",
    "    ch=ch-1"
   ]
  },
  {
   "cell_type": "code",
   "execution_count": 4,
   "id": "e17b6e37",
   "metadata": {},
   "outputs": [
    {
     "name": "stdout",
     "output_type": "stream",
     "text": [
      "P, is not a vowel\n",
      "r, is not a vowel\n",
      "a, is a vowel\n",
      "n, is not a vowel\n",
      "j, is not a vowel\n",
      "a, is a vowel\n",
      "l, is not a vowel\n",
      " , is not a vowel\n",
      "B, is not a vowel\n",
      "h, is not a vowel\n",
      "a, is a vowel\n",
      "r, is not a vowel\n",
      "d, is not a vowel\n",
      "w, is not a vowel\n",
      "a, is a vowel\n",
      "j, is not a vowel\n",
      "Total no. of vowels are:  4\n"
     ]
    }
   ],
   "source": [
    "name=\"\"\n",
    "vowels=\"AEIOUaeiou\"\n",
    "count=0\n",
    "for i in name:\n",
    "    if i in vowels:\n",
    "        print(f\"{i}, is a vowel\")\n",
    "        count = count+1\n",
    "    else:\n",
    "        print(f\"{i}, is not a vowel\")\n",
    "print(\"Total no. of vowels are: \", count)"
   ]
  },
  {
   "cell_type": "markdown",
   "id": "17444c75",
   "metadata": {},
   "source": [
    "#List"
   ]
  },
  {
   "cell_type": "code",
   "execution_count": 5,
   "id": "7fb1524e",
   "metadata": {},
   "outputs": [
    {
     "data": {
      "text/plain": [
       "['hello', 'how', 'are', 'you']"
      ]
     },
     "execution_count": 5,
     "metadata": {},
     "output_type": "execute_result"
    }
   ],
   "source": [
    "lst=[\"hello\", \"how\", \"are\", \"you\"]\n",
    "lst"
   ]
  },
  {
   "cell_type": "code",
   "execution_count": 6,
   "id": "eef1e90a",
   "metadata": {},
   "outputs": [
    {
     "data": {
      "text/plain": [
       "'hello'"
      ]
     },
     "execution_count": 6,
     "metadata": {},
     "output_type": "execute_result"
    }
   ],
   "source": [
    "lst[0]"
   ]
  },
  {
   "cell_type": "code",
   "execution_count": 7,
   "id": "21bc18c4",
   "metadata": {},
   "outputs": [],
   "source": [
    "lst[2]=\"changed\""
   ]
  },
  {
   "cell_type": "code",
   "execution_count": 8,
   "id": "28fac70b",
   "metadata": {},
   "outputs": [
    {
     "data": {
      "text/plain": [
       "['hello', 'how', 'changed', 'you']"
      ]
     },
     "execution_count": 8,
     "metadata": {},
     "output_type": "execute_result"
    }
   ],
   "source": [
    "lst"
   ]
  },
  {
   "cell_type": "code",
   "execution_count": 20,
   "id": "1dbd151e",
   "metadata": {},
   "outputs": [
    {
     "data": {
      "text/plain": [
       "['hello', 'how', 'changed', 'you', 'Good_Evening', 'bye']"
      ]
     },
     "execution_count": 20,
     "metadata": {},
     "output_type": "execute_result"
    }
   ],
   "source": [
    "lst + [\"Good_Evening\",\"bye\"]"
   ]
  },
  {
   "cell_type": "code",
   "execution_count": 23,
   "id": "077dfdbc",
   "metadata": {},
   "outputs": [
    {
     "name": "stdout",
     "output_type": "stream",
     "text": [
      "hello\n",
      "how\n",
      "changed\n",
      "you\n"
     ]
    }
   ],
   "source": [
    "for i in lst:\n",
    "    if i== \"bye\":\n",
    "        break\n",
    "    print(i)"
   ]
  },
  {
   "cell_type": "code",
   "execution_count": 24,
   "id": "18d4def5",
   "metadata": {},
   "outputs": [
    {
     "data": {
      "text/plain": [
       "True"
      ]
     },
     "execution_count": 24,
     "metadata": {},
     "output_type": "execute_result"
    }
   ],
   "source": [
    "\"hello\" in lst"
   ]
  },
  {
   "cell_type": "code",
   "execution_count": 25,
   "id": "19fcedf5",
   "metadata": {},
   "outputs": [
    {
     "data": {
      "text/plain": [
       "100"
      ]
     },
     "execution_count": 25,
     "metadata": {},
     "output_type": "execute_result"
    }
   ],
   "source": [
    "list1=[1,2,3,32,54,100]\n",
    "max(list1)"
   ]
  },
  {
   "cell_type": "code",
   "execution_count": 26,
   "id": "f4c5f480",
   "metadata": {},
   "outputs": [
    {
     "data": {
      "text/plain": [
       "1"
      ]
     },
     "execution_count": 26,
     "metadata": {},
     "output_type": "execute_result"
    }
   ],
   "source": [
    "min(list1)"
   ]
  },
  {
   "cell_type": "code",
   "execution_count": 28,
   "id": "8f486472",
   "metadata": {},
   "outputs": [
    {
     "data": {
      "text/plain": [
       "True"
      ]
     },
     "execution_count": 28,
     "metadata": {},
     "output_type": "execute_result"
    }
   ],
   "source": [
    "5==int(5.0)"
   ]
  },
  {
   "cell_type": "code",
   "execution_count": 32,
   "id": "98fc2274",
   "metadata": {},
   "outputs": [
    {
     "name": "stdout",
     "output_type": "stream",
     "text": [
      "['hello', 'GOOD']\n"
     ]
    }
   ],
   "source": [
    "stra=[\"hello\"]\n",
    "stra.append(\"GOOD\")\n",
    "print(stra)"
   ]
  },
  {
   "cell_type": "code",
   "execution_count": 34,
   "id": "3ec1f7e5",
   "metadata": {},
   "outputs": [
    {
     "data": {
      "text/plain": [
       "['GOOD']"
      ]
     },
     "execution_count": 34,
     "metadata": {},
     "output_type": "execute_result"
    }
   ],
   "source": [
    "stra.pop(0)\n",
    "stra"
   ]
  },
  {
   "cell_type": "code",
   "execution_count": 2,
   "id": "e7abcf3a",
   "metadata": {},
   "outputs": [
    {
     "name": "stdout",
     "output_type": "stream",
     "text": [
      "gninromdoog"
     ]
    }
   ],
   "source": [
    "strp=\"goodmorning\"\n",
    "a=list(strp)\n",
    "a.reverse()\n",
    "for i in a:\n",
    "    print(i,end=\"\")\n"
   ]
  },
  {
   "cell_type": "code",
   "execution_count": 8,
   "id": "c466f39b",
   "metadata": {},
   "outputs": [],
   "source": [
    "a=['a', 'c', 'd', 'b']\n",
    "a.sort()"
   ]
  },
  {
   "cell_type": "code",
   "execution_count": 9,
   "id": "56d0c15b",
   "metadata": {},
   "outputs": [
    {
     "data": {
      "text/plain": [
       "[0, 1, 2, 3, 4, 5, 6, 7, 8, 9, 10, 11, 12, 13, 14, 15, 16, 17, 18, 19]"
      ]
     },
     "execution_count": 9,
     "metadata": {},
     "output_type": "execute_result"
    }
   ],
   "source": [
    "[i for i in range(20)]"
   ]
  },
  {
   "cell_type": "code",
   "execution_count": 12,
   "id": "f812d9ec",
   "metadata": {},
   "outputs": [
    {
     "data": {
      "text/plain": [
       "[0,\n",
       " 'ODD',\n",
       " 2,\n",
       " 'ODD',\n",
       " 4,\n",
       " 'ODD',\n",
       " 6,\n",
       " 'ODD',\n",
       " 8,\n",
       " 'ODD',\n",
       " 10,\n",
       " 'ODD',\n",
       " 12,\n",
       " 'ODD',\n",
       " 14,\n",
       " 'ODD',\n",
       " 16,\n",
       " 'ODD',\n",
       " 18,\n",
       " 'ODD']"
      ]
     },
     "execution_count": 12,
     "metadata": {},
     "output_type": "execute_result"
    }
   ],
   "source": [
    "[i if i%2==0 else \"ODD\" for i in range(20)]"
   ]
  },
  {
   "cell_type": "code",
   "execution_count": 13,
   "id": "efdc1dc8",
   "metadata": {},
   "outputs": [
    {
     "name": "stdout",
     "output_type": "stream",
     "text": [
      "Sum of even numbers : 30\n",
      "Sum of odd numbers : 25\n"
     ]
    }
   ],
   "source": [
    "A = [1,2,3,4,5,6,7,8,9,10]\n",
    "sum_even=0\n",
    "sum_odd=0\n",
    "for i in A:\n",
    "    if i%2==0:\n",
    "        sum_even = sum_even + i\n",
    "    else:\n",
    "        sum_odd = sum_odd +i\n",
    "        \n",
    "print(f\"Sum of even numbers : {sum_even}\")\n",
    "print(f\"Sum of odd numbers : {sum_odd}\")        "
   ]
  },
  {
   "cell_type": "code",
   "execution_count": 15,
   "id": "db220ead",
   "metadata": {},
   "outputs": [
    {
     "data": {
      "text/plain": [
       "[1, 4, 9, 16, 25, 36, 49, 64, 81, 100]"
      ]
     },
     "execution_count": 15,
     "metadata": {},
     "output_type": "execute_result"
    }
   ],
   "source": [
    "[i**2 for i in A]"
   ]
  },
  {
   "cell_type": "code",
   "execution_count": 18,
   "id": "dcabaa2c",
   "metadata": {},
   "outputs": [
    {
     "name": "stdout",
     "output_type": "stream",
     "text": [
      "h, h, a, y, "
     ]
    }
   ],
   "source": [
    "lst=[\"hello\", \"how\", \"are\", \"you\"]\n",
    "for i in lst:\n",
    "    print(i[0], end=\", \")"
   ]
  },
  {
   "cell_type": "code",
   "execution_count": null,
   "id": "b347ce24",
   "metadata": {},
   "outputs": [],
   "source": [
    "lst."
   ]
  }
 ],
 "metadata": {
  "kernelspec": {
   "display_name": "Python 3 (ipykernel)",
   "language": "python",
   "name": "python3"
  },
  "language_info": {
   "codemirror_mode": {
    "name": "ipython",
    "version": 3
   },
   "file_extension": ".py",
   "mimetype": "text/x-python",
   "name": "python",
   "nbconvert_exporter": "python",
   "pygments_lexer": "ipython3",
   "version": "3.9.13"
  }
 },
 "nbformat": 4,
 "nbformat_minor": 5
}
