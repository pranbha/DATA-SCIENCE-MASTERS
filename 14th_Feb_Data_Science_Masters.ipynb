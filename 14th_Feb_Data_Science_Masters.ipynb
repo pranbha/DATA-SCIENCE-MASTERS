{
 "cells": [
  {
   "cell_type": "code",
   "execution_count": 16,
   "id": "18270112",
   "metadata": {},
   "outputs": [
    {
     "name": "stdout",
     "output_type": "stream",
     "text": [
      "This is my test id 10\n"
     ]
    }
   ],
   "source": [
    "import threading\n",
    "def test(id):\n",
    "    print(f\"This is my test id {id}\")\n",
    "    \n",
    "test(10)"
   ]
  },
  {
   "cell_type": "code",
   "execution_count": 17,
   "id": "4ed971f8",
   "metadata": {},
   "outputs": [
    {
     "name": "stdout",
     "output_type": "stream",
     "text": [
      "This is my test id 2\n"
     ]
    }
   ],
   "source": [
    "test(2)"
   ]
  },
  {
   "cell_type": "code",
   "execution_count": 18,
   "id": "aa24548a",
   "metadata": {},
   "outputs": [],
   "source": [
    "thread = [threading.Thread(target = test, args = (i,)) for i in [1,2,3,4,5]]"
   ]
  },
  {
   "cell_type": "code",
   "execution_count": 19,
   "id": "dbb8f2a1",
   "metadata": {},
   "outputs": [
    {
     "name": "stdout",
     "output_type": "stream",
     "text": [
      "This is my test id 1\n",
      "This is my test id 2\n",
      "This is my test id 3\n",
      "This is my test id 4\n",
      "This is my test id 5\n"
     ]
    }
   ],
   "source": [
    "for t in thread:\n",
    "    t.start()"
   ]
  },
  {
   "cell_type": "code",
   "execution_count": 20,
   "id": "66be5c3f",
   "metadata": {},
   "outputs": [],
   "source": [
    "import urllib.request\n",
    "def file_download(url, filename):\n",
    "    urllib.request.urlretrieve(url, filename)\n",
    "    \n",
    "file_download(\"https://raw.githubusercontent.com/itsfoss/text-files/master/agatha.txt\", \"test.txt\")"
   ]
  },
  {
   "cell_type": "code",
   "execution_count": 25,
   "id": "170a2ecd",
   "metadata": {},
   "outputs": [],
   "source": [
    "url_list = [\"https://raw.githubusercontent.com/itsfoss/text-files/master/agatha.txt\", \"https://raw.githubusercontent.com/itsfoss/text-files/master/sherlock.txt\", \"https://raw.githubusercontent.com/itsfoss/text-files/master/sample_log_file.txt\"]\n",
    "data_file_list = [\"data1.txt\", \"data2.txt\", \"data3.txt\"]\n",
    "\n",
    "thread1 = [threading.Thread(target = file_download, args = (url_list[i], data_file_list[i])) for i in range(len(url_list))]\n"
   ]
  },
  {
   "cell_type": "code",
   "execution_count": 26,
   "id": "861d37ae",
   "metadata": {},
   "outputs": [],
   "source": [
    "for t in thread1:\n",
    "    t.start()"
   ]
  },
  {
   "cell_type": "code",
   "execution_count": 32,
   "id": "1507b742",
   "metadata": {},
   "outputs": [],
   "source": [
    "import time\n",
    "def test2(x):\n",
    "    for i in range(5):\n",
    "        print(f\"Value of x is {x} and value of i is {i}\")\n",
    "        time.sleep(1)"
   ]
  },
  {
   "cell_type": "code",
   "execution_count": 33,
   "id": "4d6fe92e",
   "metadata": {},
   "outputs": [
    {
     "name": "stdout",
     "output_type": "stream",
     "text": [
      "Value of x is 5 and value of i is 0\n",
      "Value of x is 5 and value of i is 1\n",
      "Value of x is 5 and value of i is 2\n",
      "Value of x is 5 and value of i is 3\n",
      "Value of x is 5 and value of i is 4\n"
     ]
    }
   ],
   "source": [
    "test2(5)"
   ]
  },
  {
   "cell_type": "code",
   "execution_count": 34,
   "id": "a189be18",
   "metadata": {},
   "outputs": [],
   "source": [
    "thread2 = [threading.Thread(target = test2, args = (i,)) for i in [1,2,3,4,5]]"
   ]
  },
  {
   "cell_type": "code",
   "execution_count": 35,
   "id": "8186bc7e",
   "metadata": {},
   "outputs": [
    {
     "name": "stdout",
     "output_type": "stream",
     "text": [
      "Value of x is 1 and value of i is 0\n",
      "Value of x is 2 and value of i is 0\n",
      "Value of x is 3 and value of i is 0\n",
      "Value of x is 4 and value of i is 0\n",
      "Value of x is 5 and value of i is 0\n",
      "Value of x is 4 and value of i is 1Value of x is 3 and value of i is 1\n",
      "Value of x is 2 and value of i is 1\n",
      "Value of x is 5 and value of i is 1\n",
      "Value of x is 1 and value of i is 1\n",
      "\n",
      "Value of x is 5 and value of i is 2Value of x is 3 and value of i is 2\n",
      "Value of x is 4 and value of i is 2\n",
      "Value of x is 1 and value of i is 2\n",
      "Value of x is 2 and value of i is 2\n",
      "\n",
      "Value of x is 3 and value of i is 3Value of x is 4 and value of i is 3\n",
      "Value of x is 5 and value of i is 3\n",
      "Value of x is 2 and value of i is 3\n",
      "Value of x is 1 and value of i is 3\n",
      "\n",
      "Value of x is 3 and value of i is 4\n",
      "Value of x is 4 and value of i is 4\n",
      "Value of x is 5 and value of i is 4\n",
      "Value of x is 1 and value of i is 4\n",
      "Value of x is 2 and value of i is 4\n"
     ]
    }
   ],
   "source": [
    "for t in thread2:\n",
    "    t.start()"
   ]
  },
  {
   "cell_type": "code",
   "execution_count": 36,
   "id": "1f969749",
   "metadata": {},
   "outputs": [],
   "source": [
    "shared_var = 0\n",
    "lock_var = threading.Lock()\n",
    "\n",
    "def test3(x):\n",
    "    global shared_var\n",
    "    with lock_var:\n",
    "        shared_var = shared_var + 1\n",
    "        print(f\"Value of x is {x} and value of shared_var is {shared_var}\")\n",
    "        time.sleep(1)\n",
    "        \n",
    "thread3 = [threading.Thread(target = test3, args = (i,)) for i in [1,2,3,4,5]]"
   ]
  },
  {
   "cell_type": "code",
   "execution_count": 37,
   "id": "8b26a0be",
   "metadata": {},
   "outputs": [
    {
     "name": "stdout",
     "output_type": "stream",
     "text": [
      "Value of x is 1 and value of shared_var is 1\n",
      "Value of x is 2 and value of shared_var is 2\n",
      "Value of x is 3 and value of shared_var is 3\n",
      "Value of x is 4 and value of shared_var is 4\n",
      "Value of x is 5 and value of shared_var is 5\n"
     ]
    }
   ],
   "source": [
    "for t in thread3:\n",
    "    t.start()"
   ]
  },
  {
   "cell_type": "code",
   "execution_count": null,
   "id": "a213e859",
   "metadata": {},
   "outputs": [],
   "source": []
  }
 ],
 "metadata": {
  "kernelspec": {
   "display_name": "Python 3 (ipykernel)",
   "language": "python",
   "name": "python3"
  },
  "language_info": {
   "codemirror_mode": {
    "name": "ipython",
    "version": 3
   },
   "file_extension": ".py",
   "mimetype": "text/x-python",
   "name": "python",
   "nbconvert_exporter": "python",
   "pygments_lexer": "ipython3",
   "version": "3.9.13"
  }
 },
 "nbformat": 4,
 "nbformat_minor": 5
}
